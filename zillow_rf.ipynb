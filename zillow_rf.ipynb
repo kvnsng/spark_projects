{
 "cells": [
  {
   "cell_type": "code",
   "execution_count": 27,
   "metadata": {
    "collapsed": true
   },
   "outputs": [],
   "source": [
    "import numpy as np\n",
    "from pyspark.sql import SparkSession\n",
    "import string\n",
    "from collections import Counter\n",
    "from PIL import Image\n",
    "from operator import add\n",
    "import json\n",
    "import re\n",
    "from scipy.sparse import coo_matrix\n",
    "from pyspark.mllib.tree import RandomForest, RandomForestModel\n",
    "from pyspark.mllib.util import MLUtils\n",
    "from pyspark.sql import Row\n",
    "\n",
    "spark = SparkSession.builder.master('local[28]').appName('zillow').getOrCreate()"
   ]
  },
  {
   "cell_type": "code",
   "execution_count": 28,
   "metadata": {
    "collapsed": true
   },
   "outputs": [],
   "source": [
    "train_file = '/project/cmsc25025/zillow/zillow-train.csv'\n",
    "test_file = '/project/cmsc25025/zillow/zillow-test.csv'"
   ]
  },
  {
   "cell_type": "code",
   "execution_count": 4,
   "metadata": {
    "collapsed": false
   },
   "outputs": [],
   "source": [
    "#cannot read the file in DROPMALFORMED mode -- skip too many lines! lose over 90% of data\n",
    "#from pyspark.sql import SQLContext\n",
    "#sqlContext = SQLContext(spark)\n",
    "#b = sqlContext.read.format(\"com.databricks.spark.csv\").schema(schema).option(\"header\", \"true\").option(\"mode\", \"PERMISSIVE\").load(train_file)"
   ]
  },
  {
   "cell_type": "code",
   "execution_count": 29,
   "metadata": {
    "collapsed": false
   },
   "outputs": [],
   "source": [
    "#read data\n",
    "raw_train = spark.read.csv(train_file,header=True)"
   ]
  },
  {
   "cell_type": "code",
   "execution_count": 5,
   "metadata": {
    "collapsed": false
   },
   "outputs": [],
   "source": [
    "#raw_train.rdd.take(1)"
   ]
  },
  {
   "cell_type": "code",
   "execution_count": 30,
   "metadata": {
    "collapsed": false
   },
   "outputs": [],
   "source": [
    "#convert categorical types to indices\n",
    "\n",
    "from pyspark.ml.feature import OneHotEncoder, StringIndexer, IndexToString\n",
    "strTypes = ['MSA','City','HighSchool']\n",
    "\n",
    "myIndexer = dict()\n",
    "myConverter = dict()\n",
    "myIndexerModel = dict()\n",
    "for s in strTypes:\n",
    "    myIndexer[s] = StringIndexer(inputCol=s,outputCol=s+'_ix').setHandleInvalid(\"skip\")\n",
    "    myIndexerModel[s] = myIndexer[s].fit(raw_train)\n",
    "    raw_train = myIndexerModel[s].transform(raw_train)\n",
    "    myConverter[s] = IndexToString(inputCol=s+'_ix', outputCol=s)"
   ]
  },
  {
   "cell_type": "code",
   "execution_count": 31,
   "metadata": {
    "collapsed": false
   },
   "outputs": [
    {
     "name": "stdout",
     "output_type": "stream",
     "text": [
      "+-------+------+--------------+-------+--------------------+-------------+\n",
      "|    MSA|MSA_ix|          City|City_ix|          HighSchool|HighSchool_ix|\n",
      "+-------+------+--------------+-------+--------------------+-------------+\n",
      "|Chicago|   3.0|    Barrington|  378.0|Barrington High S...|        245.0|\n",
      "|Chicago|   3.0|Mount Prospect|  150.0|Wheeling High School|        305.0|\n",
      "|Chicago|   3.0|Mount Prospect|  150.0|John Hersey High ...|        225.0|\n",
      "+-------+------+--------------+-------+--------------------+-------------+\n",
      "only showing top 3 rows\n",
      "\n"
     ]
    }
   ],
   "source": [
    "raw_train.select('MSA','MSA_ix','City','City_ix','HighSchool','HighSchool_ix').show(3)"
   ]
  },
  {
   "cell_type": "code",
   "execution_count": 32,
   "metadata": {
    "collapsed": false
   },
   "outputs": [],
   "source": [
    "#convert values to floats, assigning -1 to NANs, NONEs, etc.\n",
    "def floatOrNeg(x):\n",
    "    for badval in [u'NONE','NONE', u'NA','NA', u'UNKNOWN', 'UNKNOWN']:\n",
    "        if x == badval: #had issues when was using 'is' instead of '==' here! careful!\n",
    "            return -1.0\n",
    "    else:\n",
    "        return float(x)"
   ]
  },
  {
   "cell_type": "code",
   "execution_count": 33,
   "metadata": {
    "collapsed": true
   },
   "outputs": [],
   "source": [
    "#clean up values in a Row of the data frame\n",
    "#keep only numerical indices of MSA, City and HighSchool variables\n",
    "def mapRow(x):\n",
    "    numTypes = ['ID','Lat','Long','ListPrice','SaleYear','Bathroom','Bedroom',\\\n",
    "            'BuiltYear','BuildDecade','MajorRenov','FinishSqFt','LotSqFt','SalePrice']\n",
    "    strTypes = ['MSA_ix','City_ix','HighSchool_ix']\n",
    "    newrow = dict()\n",
    "    for feat in numTypes:\n",
    "        if x[feat] is None or x[feat] == '*':\n",
    "            newrow[feat] = -1.0\n",
    "        else:\n",
    "            newrow[feat] = floatOrNeg(x[feat].encode(\"ascii\", \"ignore\"))\n",
    "    for feat in strTypes:\n",
    "        #newrow[feat] = x[feat].encode(\"ascii\", \"ignore\")\n",
    "        newrow[feat] = x[feat] #converted to float via StringIndexer\n",
    "    return Row(**newrow)"
   ]
  },
  {
   "cell_type": "code",
   "execution_count": 34,
   "metadata": {
    "collapsed": false
   },
   "outputs": [],
   "source": [
    "train_num = raw_train.rdd.map(lambda x: mapRow(x))\n",
    "one_row = train_num.take(1)\n",
    "# print one_row\n",
    "train_num_cols = one_row[0].asDict().keys() #need column names for next part"
   ]
  },
  {
   "cell_type": "markdown",
   "metadata": {
    "collapsed": false
   },
   "source": [
    "## 3 (a) Data exploration"
   ]
  },
  {
   "cell_type": "code",
   "execution_count": 35,
   "metadata": {
    "collapsed": true
   },
   "outputs": [],
   "source": [
    "%matplotlib inline\n",
    "from matplotlib import pyplot as plt\n",
    "import matplotlib.ticker as mtick"
   ]
  },
  {
   "cell_type": "code",
   "execution_count": 36,
   "metadata": {
    "collapsed": false
   },
   "outputs": [
    {
     "data": {
      "image/png": "[encoded data removed]",
      "text/plain": [
       "<matplotlib.figure.Figure at 0x7fc25fb0e190>"
      ]
     },
     "metadata": {},
     "output_type": "display_data"
    }
   ],
   "source": [
    "features = train_num_cols\n",
    "plt.figure(figsize=(10,40))\n",
    "for i in np.arange(len(features)):\n",
    "    ax = plt.subplot(8, 2, i+1)\n",
    "    thisfeat = train_num.map(lambda x: x[features[i]]).collect()\n",
    "    thisfeat=np.array(thisfeat)\n",
    "    if features[i] == 'Lat' or features[i] == 'Long':\n",
    "        plt.hist(thisfeat,normed=0)\n",
    "    else:\n",
    "        plt.hist(thisfeat[thisfeat > 0],normed=0)\n",
    "    plt.title(features[i])\n",
    "    \n",
    "    if features[i] == 'SalePrice' or features[i] == 'ListPrice':\n",
    "        ax.xaxis.set_major_formatter(mtick.FormatStrFormatter('%.1e'))"
   ]
  },
  {
   "cell_type": "markdown",
   "metadata": {},
   "source": [
    "The categorical variables here are HighSchool, City and MSA (metropolitan statistical area), which I have already converted to numerical values using StringIndexer above. There are only 4 MSA values, 1344 cities and 744 high schools listed in the database. (Note all of the NA, NONE, UNKNOWN values are excluded from these plots).\n",
    "\n",
    "It looks like some values are raw, whereas others seem to have been preprocessed. For example, it seems strange that latitude and longtitude fall into such large bins with huge gaps in-between. Have there really been no homes sold at -80 longtitude? Also, it seems strange that there are so few (3) metropolitan areas in the dataset. Perhaps there weren't statistically significant numbers in other bins, so Zillow excluded them from the dataset? Regarding SalePrice, I'm surprised there aren't mroe expensive homes (e.g., multi-million dollar sales)."
   ]
  },
  {
   "cell_type": "markdown",
   "metadata": {},
   "source": [
    "## 3 (b) Random forest models to predict SalePrice"
   ]
  },
  {
   "cell_type": "code",
   "execution_count": 37,
   "metadata": {
    "collapsed": true
   },
   "outputs": [],
   "source": [
    "from pyspark.mllib.regression import LabeledPoint"
   ]
  },
  {
   "cell_type": "code",
   "execution_count": 38,
   "metadata": {
    "collapsed": false
   },
   "outputs": [],
   "source": [
    "#map rows to LP\n",
    "def map2LP(x):\n",
    "    #get rid of posting ID, BuiltYear,\n",
    "    feature_names = ['Lat','Long','ListPrice','SaleYear','Bathroom','Bedroom',\\\n",
    "                'BuildDecade','MajorRenov','FinishSqFt','LotSqFt',\\\n",
    "                'MSA_ix','City_ix','HighSchool_ix']\n",
    "    label_name = 'SalePrice'\n",
    "    label = x[label_name]\n",
    "    #print label\n",
    "    features = [x[ft] for ft in feature_names]\n",
    "    #print features\n",
    "    return LabeledPoint(label, features)"
   ]
  },
  {
   "cell_type": "code",
   "execution_count": 42,
   "metadata": {
    "collapsed": false
   },
   "outputs": [],
   "source": [
    "#convert all rows to LabeledPoints, must filter out data where we don't have a sale price\n",
    "#otherwise, test error calculation is messed up\n",
    "train_lp = train_num.filter(lambda x: x['SalePrice'] > 0).map(lambda x: map2LP(x))\n",
    "#print train_num.take(1)\n",
    "#print train_lp.take(1)"
   ]
  },
  {
   "cell_type": "code",
   "execution_count": 43,
   "metadata": {
    "collapsed": true
   },
   "outputs": [],
   "source": [
    "#compute no. unique values for all categorical variables\n",
    "feature_names = ['Lat','Long','ListPrice','SaleYear','Bathroom','Bedroom',\\\n",
    "                'BuildDecade','MajorRenov','FinishSqFt','LotSqFt',\\\n",
    "                'MSA_ix','City_ix','HighSchool_ix']\n",
    "catVars =['MSA_ix','City_ix','HighSchool_ix']\n",
    "catVarDict = dict()\n",
    "for c in catVars:\n",
    "    catVarInd = feature_names.index(c)\n",
    "    num_unique = train_num.map(lambda x: x[c]).distinct().count()\n",
    "    catVarDict[catVarInd] = num_unique"
   ]
  },
  {
   "cell_type": "code",
   "execution_count": 44,
   "metadata": {
    "collapsed": false
   },
   "outputs": [
    {
     "name": "stdout",
     "output_type": "stream",
     "text": [
      "{10: 4, 11: 1344, 12: 774}\n"
     ]
    }
   ],
   "source": [
    "print catVarDict"
   ]
  },
  {
   "cell_type": "code",
   "execution_count": 45,
   "metadata": {
    "collapsed": false
   },
   "outputs": [],
   "source": [
    "from pyspark.mllib.tree import RandomForest, RandomForestModel\n",
    "from pyspark.mllib.util import MLUtils\n",
    "\n",
    "# Load and parse the data file into an RDD of LabeledPoint.\n",
    "data = train_lp\n",
    "\n",
    "# Split the data into training and test sets (30% held out for testing)\n",
    "(trainingData, testData) = data.randomSplit([0.7, 0.3])\n",
    "\n",
    "# Train a RandomForest model.\n",
    "#  Empty categoricalFeaturesInfo indicates all features are continuous.\n",
    "#  Note: Use larger numTrees in practice.\n",
    "#  Setting featureSubsetStrategy=’’auto’’ lets the algorithm choose.\n",
    "model = RandomForest.trainRegressor(trainingData,categoricalFeaturesInfo=catVarDict,\\\n",
    "            numTrees=12, featureSubsetStrategy='auto',\\\n",
    "            impurity='variance', maxDepth=18, maxBins=1400) #maxBins was 32\n",
    "\n",
    "# Evaluate model on test instances and compute test error\n",
    "predictions = model.predict(testData.map(lambda x: x.features))"
   ]
  },
  {
   "cell_type": "code",
   "execution_count": 46,
   "metadata": {
    "collapsed": false
   },
   "outputs": [
    {
     "name": "stdout",
     "output_type": "stream",
     "text": [
      "Test Mean Squared Error = \n",
      "2.76e+08\n",
      "Test Sqrt Mean Squared Error = \n",
      "16623 dollars\n",
      "Test %Error = \n",
      "3.03 avg percent error\n"
     ]
    }
   ],
   "source": [
    "labelsAndPredictions = \\\n",
    "            testData.map(lambda lp: lp.label).zip(predictions)\n",
    "testMSE = labelsAndPredictions.map(\\\n",
    "        lambda (v, p): (v - p) * (v - p)).sum() / float(testData.count())\n",
    "testMeanPercentError = labelsAndPredictions.map(\\\n",
    "        lambda (v,p): np.abs(v-p)/float(v)).sum() / float(testData.count())\n",
    "\n",
    "print('Test Mean Squared Error = ')\n",
    "print \"%2.2e\" % (testMSE)\n",
    "print('Test Sqrt Mean Squared Error = ')\n",
    "print \"%.0f dollars\" % (np.sqrt(testMSE))\n",
    "print('Test %Error = ')\n",
    "print \"%2.2f avg percent error\" % (100*testMeanPercentError)\n",
    "#print('Learned regression forest model:')\n",
    "#print(model.toDebugString())"
   ]
  },
  {
   "cell_type": "code",
   "execution_count": 47,
   "metadata": {
    "collapsed": true
   },
   "outputs": [],
   "source": [
    "model_for_c = model #will use this model in prediction below"
   ]
  },
  {
   "cell_type": "markdown",
   "metadata": {},
   "source": [
    "I tried many sets of numTrees, maxDepth in the following ranges: numTrees=3-12,  maxDepth=3-15. I also ran this with and without explcitly defining categorical variables. I compared different models based on their %error on test data. \n",
    "\n",
    "A few examples below with saved output values: \n",
    "- numTrees=8 , maxDepth = 8,  including categorical data --> 5.15% error\n",
    "- numTrees=12, maxDepth = 8,  including categorical data --> 4.96% error\n",
    "- numTrees=8 , maxDepth = 12, including categorical data --> 3.23% error\n",
    "- numTrees=12, maxDepth = 14, including categorical data --> 3.02% error\n",
    "- numTrees=14, maxDepth = 14, including categorical data --> 3.05% error\n",
    "- numTrees=12, maxDepth = 18, including categorical data --> 3.00% error\n",
    "\n",
    "A few observations:\n",
    "\n",
    "1. You get much better results with a larger depth and larger number of trees (numTrees=12, maxDepth = 14, including categorical data --> 3.02% error). It seems like depth matters more for accuracy (makes sense -- can predict more accurately with more decision points), but deeper trees take longer to compute. In general, larger values for both variables lead to more accurate predictions on test data, but up to a point. I wasn't able to get any prediction errors below 3%. I think this is generally in agreement with our expectations. Larger numbers of trees reduce variance and deeper trees reduce bias. \n",
    "2. Running these RF models for large numbers of trees and depths requires lots of computational resources. When I was running these jobs on Sandyb, I couldn't go past $\\approx$8-10 numTrees and maxDepth. I couldn't get much better than 4-5% accuracy with those parameters. \n",
    "3. On Broadwl, using 24 cores, I can push both parameters >12, and it makes a difference. \n",
    "4. It looks like adding categorical variables explicitly does improve performance a bit, as promised in the documentation. However, including this option requires having at least as many bins as there are categories (1400 max in this case). When I attempted to include these categories explicitly on Sandyb, the jobs simply crashed.\n",
    "5. It's more efficient to make these models if unimportant covariates are removed. For example, I removed 'BuildYear' (thinking it's already incorporated in 'BuildDecade') and 'ID' (I don't know why a listing ID would correlate with sales prices).\n",
    "6. It seems like including 'ListPrice' in the covariates is cheating a bit... I haven't looked at this, but I suspect that 'SalePrice' strongly correlates with it. In fact, removing 'ListPrice' from the list of covariates sharply reduces regression quality (~10-15% error for numTrees, maxDepth in the range of 8-10, from what I remember)."
   ]
  },
  {
   "cell_type": "code",
   "execution_count": 51,
   "metadata": {
    "collapsed": true
   },
   "outputs": [],
   "source": [
    "#test goodness of prediction by plotting\n",
    "l_and_p = labelsAndPredictions.collect()\n",
    "l,p= zip(*l_and_p)\n",
    "f=plt.figure()\n",
    "plt.plot(l,p,'.')\n",
    "plt.xlabel('true sale price')\n",
    "plt.ylabel('predicted sale price')"
   ]
  },
  {
   "cell_type": "markdown",
   "metadata": {},
   "source": [
    "## 3(c) Predicting sale prices"
   ]
  },
  {
   "cell_type": "code",
   "execution_count": 48,
   "metadata": {
    "collapsed": false
   },
   "outputs": [],
   "source": [
    "#read data\n",
    "raw_test = spark.read.csv(test_file,header=True)"
   ]
  },
  {
   "cell_type": "code",
   "execution_count": 56,
   "metadata": {
    "collapsed": false
   },
   "outputs": [],
   "source": [
    "#raw_test.show()"
   ]
  },
  {
   "cell_type": "code",
   "execution_count": 49,
   "metadata": {
    "collapsed": false
   },
   "outputs": [
    {
     "name": "stdout",
     "output_type": "stream",
     "text": [
      "{'City': StringIndexer_4ff09a64326d99b9000d, 'HighSchool': StringIndexer_4569a7d73fa89fb87a15, 'MSA': StringIndexer_41deaaa844036301c3ee}\n"
     ]
    }
   ],
   "source": [
    "print myIndexer"
   ]
  },
  {
   "cell_type": "code",
   "execution_count": 50,
   "metadata": {
    "collapsed": false
   },
   "outputs": [],
   "source": [
    "#must use stringIndexers trained on train_data above to index the test_data!\n",
    "#it's important that the indexer up top has been set to handle invalid keys by throwing them out\n",
    "#otherwise, results in errors\n",
    "strTypes = ['MSA','City','HighSchool']\n",
    "for s in strTypes:\n",
    "    raw_test = myIndexerModel[s].transform(raw_test)"
   ]
  },
  {
   "cell_type": "code",
   "execution_count": 51,
   "metadata": {
    "collapsed": false
   },
   "outputs": [
    {
     "name": "stdout",
     "output_type": "stream",
     "text": [
      "+---------+-------+------+----------+-------+--------------------+-------------+\n",
      "|SalePrice|    MSA|MSA_ix|      City|City_ix|          HighSchool|HighSchool_ix|\n",
      "+---------+-------+------+----------+-------+--------------------+-------------+\n",
      "|        *|Chicago|   3.0|  Oak Park|   92.0|Oak Park & River ...|         74.0|\n",
      "|        *|Chicago|   3.0|Northfield|  598.0|New Trier Townshi...|         57.0|\n",
      "+---------+-------+------+----------+-------+--------------------+-------------+\n",
      "only showing top 2 rows\n",
      "\n"
     ]
    }
   ],
   "source": [
    "raw_test.select('SalePrice','MSA','MSA_ix','City','City_ix','HighSchool','HighSchool_ix').show(2)"
   ]
  },
  {
   "cell_type": "code",
   "execution_count": 52,
   "metadata": {
    "collapsed": false
   },
   "outputs": [],
   "source": [
    "test_num = raw_test.rdd.map(lambda x: mapRow(x))\n",
    "one_row = test_num.take(1)\n",
    "# print one_row\n",
    "test_num_cols = one_row[0].asDict().keys() #need column names for next part"
   ]
  },
  {
   "cell_type": "code",
   "execution_count": 44,
   "metadata": {
    "collapsed": false
   },
   "outputs": [],
   "source": [
    "#test_num.take(2)"
   ]
  },
  {
   "cell_type": "code",
   "execution_count": 53,
   "metadata": {
    "collapsed": false
   },
   "outputs": [],
   "source": [
    "#convert all rows to LabeledPoints, must hang on to ID for next part\n",
    "#otherwise, test error calculation is messed up\n",
    "#generate (ID,LabeledPoint tuples)\n",
    "test_lp = test_num.map(lambda x: (int(x['ID']),map2LP(x))) #works: int(x['ID'])"
   ]
  },
  {
   "cell_type": "code",
   "execution_count": 36,
   "metadata": {
    "collapsed": false
   },
   "outputs": [],
   "source": [
    "#test_lp.take(1)"
   ]
  },
  {
   "cell_type": "code",
   "execution_count": 54,
   "metadata": {
    "collapsed": true
   },
   "outputs": [],
   "source": [
    "# Evaluate model on test instances\n",
    "pred_part_c = model_for_c.predict(test_lp.map(lambda x: x[1].features))"
   ]
  },
  {
   "cell_type": "code",
   "execution_count": 55,
   "metadata": {
    "collapsed": false
   },
   "outputs": [
    {
     "data": {
      "text/plain": [
       "20613"
      ]
     },
     "execution_count": 55,
     "metadata": {},
     "output_type": "execute_result"
    }
   ],
   "source": [
    "pred_part_c.count()"
   ]
  },
  {
   "cell_type": "code",
   "execution_count": 56,
   "metadata": {
    "collapsed": false
   },
   "outputs": [
    {
     "data": {
      "text/plain": [
       "20613"
      ]
     },
     "execution_count": 56,
     "metadata": {},
     "output_type": "execute_result"
    }
   ],
   "source": [
    "test_lp.count()"
   ]
  },
  {
   "cell_type": "code",
   "execution_count": 57,
   "metadata": {
    "collapsed": false
   },
   "outputs": [],
   "source": [
    "#zip with ID\n",
    "pred_and_ID = test_lp.map(lambda x: x[0]).zip(pred_part_c)"
   ]
  },
  {
   "cell_type": "code",
   "execution_count": 58,
   "metadata": {
    "collapsed": false
   },
   "outputs": [],
   "source": [
    "pred_and_ID_coll = pred_and_ID.collect()"
   ]
  },
  {
   "cell_type": "code",
   "execution_count": 59,
   "metadata": {
    "collapsed": true
   },
   "outputs": [],
   "source": [
    "#turn predictions into a dictionary {ID:predicted_price}\n",
    "pred_and_ID_dict = dict(pred_and_ID_coll)"
   ]
  },
  {
   "cell_type": "code",
   "execution_count": 60,
   "metadata": {
    "collapsed": false
   },
   "outputs": [
    {
     "data": {
      "text/plain": [
       "166801.60057997558"
      ]
     },
     "execution_count": 60,
     "metadata": {},
     "output_type": "execute_result"
    }
   ],
   "source": [
    "#test one dictionary entry\n",
    "#pred_and_ID_dict[61960407]"
   ]
  },
  {
   "cell_type": "code",
   "execution_count": 67,
   "metadata": {
    "collapsed": false
   },
   "outputs": [],
   "source": [
    "#go through file, read line by line\n",
    "#find the ID for a given line and append after the last comma the predicted price\n",
    "in_file =  'my-zillow-test.csv'\n",
    "out_file = 'my-zillow-predictions.csv'\n",
    "cnt = 0\n",
    "with open(in_file, 'r') as fin:\n",
    "    with open(out_file,'w') as fout:\n",
    "        for x in fin.readlines():\n",
    "            #write header\n",
    "            if cnt == 0:\n",
    "                new_x = x\n",
    "                fout.write(new_x)\n",
    "                #fout.write('\\n')\n",
    "            if cnt > 0:\n",
    "                this_id = int(str.split(x,',')[0])\n",
    "                try:\n",
    "                    this_pred = pred_and_ID_dict[this_id]\n",
    "                    new_x = x[:-2]+str(this_pred) #trim last symbol (*) and replace by predicted price\n",
    "                    fout.write(new_x)\n",
    "                    fout.write('\\n')\n",
    "                except KeyError:\n",
    "                    fout.write(x)\n",
    "            cnt=cnt+1\n",
    "fout.close()\n",
    "fin.close()"
   ]
  }
 ],
 "metadata": {
  "kernelspec": {
   "display_name": "Python 2",
   "language": "python",
   "name": "python2"
  },
  "language_info": {
   "codemirror_mode": {
    "name": "ipython",
    "version": 2
   },
   "file_extension": ".py",
   "mimetype": "text/x-python",
   "name": "python",
   "nbconvert_exporter": "python",
   "pygments_lexer": "ipython2",
   "version": "2.7.12"
  }
 },
 "nbformat": 4,
 "nbformat_minor": 2
}
