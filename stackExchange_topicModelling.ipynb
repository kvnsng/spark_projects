{
 "cells": [
  {
   "cell_type": "markdown",
   "metadata": {},
   "source": [
    "#### For this problem set I worked with Eugene Leypunskiy"
   ]
  },
  {
   "cell_type": "code",
   "execution_count": 38,
   "metadata": {
    "collapsed": false
   },
   "outputs": [],
   "source": [
    "%matplotlib inline\n",
    "import numpy as np\n",
    "import matplotlib.pyplot as plt\n",
    "from pyspark.sql import SparkSession\n",
    "import string\n",
    "from collections import Counter, OrderedDict\n",
    "import nltk\n",
    "from nltk.corpus import stopwords\n",
    "import re\n",
    "from pyspark.ml.linalg import Vectors, SparseVector\n",
    "from pyspark.ml.clustering import LDA\n",
    "from pyspark.ml.clustering import DistributedLDAModel"
   ]
  },
  {
   "cell_type": "markdown",
   "metadata": {},
   "source": [
    "### Part 2(a): Make vocabulary"
   ]
  },
  {
   "cell_type": "code",
   "execution_count": 81,
   "metadata": {
    "collapsed": false
   },
   "outputs": [],
   "source": [
    "stack_file = open('/project/cmsc25025/stackexchange/20161215StatsPostsMerged.csv','r').readlines()\n",
    "\n",
    "spark = SparkSession.builder.master('local[56]')\\\n",
    "                            .appName('stack_exchange')\\\n",
    "                            .config(\"spark.driver.maxResultSize\", \"20g\")\\\n",
    "                            .config(\"spark.driver.memory\", \"20g\")\\\n",
    "                            .config(\"spark.executor.memory\", \"20g\")\\\n",
    "                            .getOrCreate()\n",
    "\n",
    "\n",
    "stack_data = spark.sparkContext.parallelize(stack_file[1:])"
   ]
  },
  {
   "cell_type": "markdown",
   "metadata": {},
   "source": [
    "### Steps to make vocabulary\n",
    "1. First we split the data by comma to get the document ID\n",
    "2. The first entry after splitting comma is always the doc ID\n",
    "3. Substitute a blank space for anything that's not a space or lowercase alphabets\n",
    "4. Split the string up into words\n",
    "5. Make them unicodes\n",
    "6. Return the document ID and words in list\n",
    "7. Count number of words throughout the corpus\n",
    "8. Get rid of any words that have less than or equal to 3 characters\n",
    "9. Get rid of stopwords\n",
    "10. Remove words that have less than or equal to 35 counts\n"
   ]
  },
  {
   "cell_type": "code",
   "execution_count": 3,
   "metadata": {
    "collapsed": false
   },
   "outputs": [],
   "source": [
    "def clean_string(s):\n",
    "    sForID = s.split(',') # Splitting data to get document ID\n",
    "    docID = sForID[0] # first index after split is the docID\n",
    "    s = re.sub('[^a-z\\ \\']+', \" \", s.lower().strip()) # substitute everything except letters + space with white space\n",
    "    s = s.split()\n",
    "    s = [i.decode('utf-8') for i in s]                # Make Unicode\n",
    "    return docID, s                          # Return doc ID + list of words"
   ]
  },
  {
   "cell_type": "code",
   "execution_count": 4,
   "metadata": {
    "collapsed": false
   },
   "outputs": [],
   "source": [
    "vocabulary = stack_data.map(lambda x: clean_string(x))\\\n",
    "                       .map(lambda x: Counter(x[1]))\\\n",
    "                       .reduce(lambda a,b: a + b)\n"
   ]
  },
  {
   "cell_type": "code",
   "execution_count": 5,
   "metadata": {
    "collapsed": false
   },
   "outputs": [
    {
     "name": "stdout",
     "output_type": "stream",
     "text": [
      "100928\n",
      "100847\n"
     ]
    }
   ],
   "source": [
    "vocabulary = Counter({k:v for k,v in vocabulary.items() if len(k) > 3}).most_common()\n",
    "print len(vocabulary)\n",
    "vocabulary= dict(vocabulary)\n",
    "stopWords = nltk.corpus.stopwords.words('english')\n",
    "\n",
    "for i in stopWords:\n",
    "    try:\n",
    "        vocabulary.pop(i.decode('utf-8'))\n",
    "    except KeyError:\n",
    "        continue\n",
    "print len(vocabulary)\n",
    "vocabulary = dict(vocabulary)\n",
    "vocabulary = Counter({k:v for k,v in vocabulary.items() if v > 35 }).most_common()\n",
    "vocabulary = OrderedDict(vocabulary)"
   ]
  },
  {
   "cell_type": "markdown",
   "metadata": {},
   "source": [
    "### Part 2(b): Topic modelling with k=30"
   ]
  },
  {
   "cell_type": "code",
   "execution_count": 6,
   "metadata": {
    "collapsed": true
   },
   "outputs": [],
   "source": [
    "# Parser for mapping each entry to a sequence of word-id/count pairs\n",
    "\n",
    "def map_wordid_count(x, masterVocab):\n",
    "    docId = x[0]\n",
    "    counterObj = x[1]\n",
    "    dumTupleList = []\n",
    "    keys = []\n",
    "    values = []\n",
    "    for i, word in enumerate(masterVocab):\n",
    "        if word in counterObj:\n",
    "            keys.append(i)\n",
    "            values.append(counterObj[word])\n",
    "\n",
    "    return (docId, Vectors.sparse(len(masterVocab), keys, values))\n",
    "            \n",
    "        \n",
    "        \n",
    "    "
   ]
  },
  {
   "cell_type": "code",
   "execution_count": 7,
   "metadata": {
    "collapsed": false
   },
   "outputs": [],
   "source": [
    "# Split Data into train and test\n",
    "stack_dataTrain, stack_dataTest = stack_data.randomSplit([9, 1])"
   ]
  },
  {
   "cell_type": "code",
   "execution_count": 8,
   "metadata": {
    "collapsed": false
   },
   "outputs": [],
   "source": [
    "# Map each document to (docID, [word-ID, cnt]) tuples\n",
    "parsedDataTrain = stack_dataTrain.map(lambda x: (clean_string(x)))\\\n",
    "                                 .map(lambda x: (int(\"{:.0f}\".format(float(x[0]))), Counter(x[1])))\\\n",
    "                                 .map(lambda x: map_wordid_count(x, vocabulary))\\\n",
    "                                 .map(list)"
   ]
  },
  {
   "cell_type": "code",
   "execution_count": 19,
   "metadata": {
    "collapsed": false
   },
   "outputs": [],
   "source": [
    "# Train LDA Model\n",
    "parsedDF = parsedDataTrain.toDF([\"id\",\"features\"])\n",
    "lda = LDA(k=30, maxIter=50)\n",
    "model = lda.fit(parsedDF)\n"
   ]
  },
  {
   "cell_type": "code",
   "execution_count": 20,
   "metadata": {
    "collapsed": false
   },
   "outputs": [],
   "source": [
    "# Get list of words and cnts from vocabulary\n",
    "masterWords = []\n",
    "masterCnts = []\n",
    "for i in vocabulary:\n",
    "    masterWords.append(i), \n",
    "    masterCnts.append(vocabulary[i])"
   ]
  },
  {
   "cell_type": "code",
   "execution_count": 21,
   "metadata": {
    "collapsed": false
   },
   "outputs": [],
   "source": [
    "# For all topics, get term indices and term weights \n",
    "termIndices = model.describeTopics()\\\n",
    "                   .select(\"termIndices\").rdd.map(list).map(lambda x:x[0]).collect()\n",
    "termWeights = model.describeTopics()\\\n",
    "                   .select(\"termWeights\").rdd.map(list).map(lambda x:x[0]).collect()"
   ]
  },
  {
   "cell_type": "code",
   "execution_count": 22,
   "metadata": {
    "collapsed": false
   },
   "outputs": [
    {
     "name": "stdout",
     "output_type": "stream",
     "text": [
      "Topic 0\n",
      "city 0.0345725092478\n",
      "votes 0.030151135499\n",
      "brand 0.0261120433168\n",
      "cities 0.0254135944357\n",
      "vote 0.0236359871983\n",
      "segment 0.0158739462686\n",
      "share 0.0137525408588\n",
      "paradox 0.0126938750792\n",
      "voting 0.0115244139544\n",
      "segments 0.0107176662112\n",
      "Topic 1\n",
      "mediation 0.0365241799042\n",
      "path 0.0239449346215\n",
      "active 0.0173472982642\n",
      "moderator 0.0161888502735\n",
      "cohort 0.0161786926524\n",
      "indirect 0.0141197163471\n",
      "birds 0.0122684843608\n",
      "bird 0.0120367255903\n",
      "mediator 0.0116623944653\n",
      "moderation 0.0107626096867\n",
      "Topic 2\n",
      "factor 0.0250511960019\n",
      "scores 0.0182340685304\n",
      "score 0.0173455771644\n",
      "items 0.0169062587737\n",
      "analysis 0.0164066931385\n",
      "scale 0.0157126885984\n",
      "factors 0.0125168358228\n",
      "variables 0.0121173948325\n",
      "item 0.0104841692606\n",
      "correlation 0.00937553655196\n",
      "Topic 3\n",
      "frequent 0.0337521862314\n",
      "support 0.0171045977602\n",
      "closed 0.0129723244854\n",
      "apriori 0.0115075955782\n",
      "maximal 0.00928910988429\n",
      "ancillary 0.00888977020348\n",
      "association 0.00789309118505\n",
      "cophenetic 0.00751760721279\n",
      "batting 0.00712804456771\n",
      "yards 0.00672733401526\n",
      "Topic 4\n",
      "ratio 0.069366604506\n",
      "odds 0.0563229919866\n",
      "risk 0.0280221378632\n",
      "meta 0.0271344386566\n",
      "analysis 0.0245806542592\n",
      "ratios 0.0232662966164\n",
      "studies 0.017384217606\n",
      "hazard 0.0172237404788\n",
      "study 0.0166526881356\n",
      "outcome 0.00841353868886\n",
      "Topic 5\n",
      "data 0.0355445225547\n",
      "would 0.00954494279363\n",
      "like 0.00905785246315\n",
      "distance 0.00819382946423\n",
      "points 0.00781974934228\n",
      "using 0.00777327650864\n",
      "clustering 0.007109810606\n",
      "cluster 0.00668022967367\n",
      "want 0.00613093600544\n",
      "plot 0.00609688260968\n",
      "Topic 6\n",
      "distribution 0.0218745611102\n",
      "function 0.0144471638451\n",
      "matrix 0.011168505281\n",
      "random 0.0106730700829\n",
      "variance 0.00790225706949\n",
      "likelihood 0.00705637443082\n",
      "mean 0.00659020264295\n",
      "variables 0.00626159679451\n",
      "given 0.00619432474915\n",
      "normal 0.00585343363912\n",
      "Topic 7\n",
      "combinations 0.0177708197068\n",
      "modularity 0.0102415200481\n",
      "mcfadden's 0.00966835806516\n",
      "mcfadden 0.00922354143571\n",
      "pseudo 0.00848108409431\n",
      "loglikelihood 0.0053216842623\n",
      "vglm 0.0041015992742\n",
      "cragg 0.00390594894913\n",
      "orientation 0.00353764617362\n",
      "newman 0.00313228755691\n",
      "Topic 8\n",
      "particle 0.0374779003284\n",
      "stress 0.0323393186337\n",
      "crime 0.0263847161576\n",
      "particles 0.0221435382941\n",
      "wealth 0.0178303571172\n",
      "detector 0.0101787150665\n",
      "contract 0.00901839773856\n",
      "contracts 0.00806639370786\n",
      "inflation 0.00638687310474\n",
      "dollars 0.00625825798218\n",
      "Topic 9\n",
      "wind 0.028220115452\n",
      "transactions 0.0221004461665\n",
      "fuzzy 0.022094589136\n",
      "customer 0.0215335539309\n",
      "transaction 0.0177412932949\n",
      "speed 0.0177044645015\n",
      "influential 0.0154326126962\n",
      "brownian 0.0145594189835\n",
      "customers 0.0139747158871\n",
      "motion 0.0117027774483\n",
      "Topic 10\n",
      "model 0.0299408939986\n",
      "regression 0.0247439166976\n",
      "variables 0.015307180216\n",
      "variable 0.0151135062118\n",
      "data 0.0114430111796\n",
      "linear 0.0105797824381\n",
      "would 0.00972850600065\n",
      "values 0.00810186932844\n",
      "using 0.00776710062691\n",
      "models 0.00716807663187\n",
      "Topic 11\n",
      "bugs 0.0398098569372\n",
      "perplexity 0.0213936881867\n",
      "walker 0.00973378334465\n",
      "yule 0.00968241046082\n",
      "pert 0.00544824394293\n",
      "disability 0.00539812204503\n",
      "plsa 0.00357251209311\n",
      "deprivation 0.00222749486073\n",
      "test 0.0021741118715\n",
      "would 0.00216786343291\n",
      "Topic 12\n",
      "unit 0.0477175449478\n",
      "root 0.0461920111281\n",
      "causality 0.0440430298182\n",
      "test 0.0409419668245\n",
      "granger 0.0351680500309\n",
      "fuller 0.0149644997876\n",
      "dickey 0.0142543266584\n",
      "wave 0.0135435475536\n",
      "causal 0.0110996240943\n",
      "causes 0.0107211000504\n",
      "Topic 13\n",
      "cointegration 0.0408531931299\n",
      "stationary 0.0170340453913\n",
      "vecm 0.0169357418393\n",
      "lambda 0.0166196119115\n",
      "cointegrated 0.0160022193355\n",
      "correction 0.0129813035523\n",
      "test 0.0125447940555\n",
      "johansen 0.0102035702562\n",
      "integrated 0.0100930520163\n",
      "cointegrating 0.00787071900583\n",
      "Topic 14\n",
      "word 0.0412231174184\n",
      "words 0.0387810040074\n",
      "text 0.020594429234\n",
      "sequence 0.0133857472745\n",
      "document 0.0117632736667\n",
      "mutual 0.0107841276349\n",
      "sequences 0.0104899143664\n",
      "documents 0.0101405820332\n",
      "length 0.00856511026079\n",
      "corpus 0.00765283565094\n",
      "Topic 15\n",
      "time 0.0474918063445\n",
      "series 0.0291454617876\n",
      "data 0.0276488823328\n",
      "model 0.0232655650659\n",
      "would 0.009443689882\n",
      "year 0.00843681839607\n",
      "using 0.00815969213015\n",
      "forecast 0.00730433790911\n",
      "arima 0.00724487371897\n",
      "models 0.00620443894852\n",
      "Topic 16\n",
      "probability 0.0249171170299\n",
      "time 0.0128527150192\n",
      "number 0.00983053080656\n",
      "would 0.00954058313066\n",
      "data 0.00741955999747\n",
      "state 0.00665585825966\n",
      "probabilities 0.00597088725941\n",
      "first 0.00564479155808\n",
      "bayesian 0.0056234494123\n",
      "problem 0.00557418891571\n",
      "Topic 17\n",
      "garch 0.058283397822\n",
      "delta 0.0316832717047\n",
      "arma 0.0209464495375\n",
      "model 0.0192585107766\n",
      "conditional 0.016093017595\n",
      "volatility 0.0157901734049\n",
      "arch 0.0150188587616\n",
      "function 0.0126733442104\n",
      "sigmoid 0.00884432702604\n",
      "neuron 0.00820757837463\n",
      "Topic 18\n",
      "test 0.0285070842116\n",
      "sample 0.0227923962896\n",
      "distribution 0.0195101178917\n",
      "mean 0.0168825977201\n",
      "value 0.0134609241053\n",
      "standard 0.0113931271202\n",
      "data 0.0113538489828\n",
      "confidence 0.00888727972193\n",
      "would 0.00884254640735\n",
      "normal 0.00875528314195\n",
      "Topic 19\n",
      "sampling 0.0578167565029\n",
      "species 0.0343473456336\n",
      "mcmc 0.0277832703231\n",
      "carlo 0.0264401238778\n",
      "monte 0.0264398465407\n",
      "gibbs 0.0201347480573\n",
      "chain 0.0146024182525\n",
      "metropolis 0.0141318353237\n",
      "sample 0.0121684885417\n",
      "sampler 0.0113809877221\n",
      "Topic 20\n",
      "discriminant 0.0730408933014\n",
      "revenue 0.0313741649626\n",
      "biomass 0.0206910063354\n",
      "allele 0.0139925278996\n",
      "canonical 0.0118995398652\n",
      "snps 0.0106396732782\n",
      "analysis 0.00753534636907\n",
      "alleles 0.00749361292555\n",
      "discriminants 0.0073729788663\n",
      "flies 0.00683801311279\n",
      "Topic 21\n",
      "positive 0.0496425340446\n",
      "false 0.0378856561023\n",
      "precision 0.0371020856442\n",
      "negative 0.0288479888859\n",
      "recall 0.0250982547041\n",
      "genes 0.0205479322801\n",
      "positives 0.0195757854117\n",
      "gene 0.0185365804982\n",
      "curve 0.0183488572328\n",
      "true 0.0168709384781\n",
      "Topic 22\n",
      "male 0.0296831138689\n",
      "female 0.0271897415805\n",
      "children 0.022484910121\n",
      "birth 0.0219157784689\n",
      "child 0.0209475271632\n",
      "tickets 0.020087900525\n",
      "random 0.015150144652\n",
      "ticket 0.0122408032466\n",
      "number 0.0111247183506\n",
      "boys 0.00873005532896\n",
      "Topic 23\n",
      "protein 0.0391190154317\n",
      "digits 0.0321401779516\n",
      "frac 0.022692015971\n",
      "digit 0.0207368502527\n",
      "sector 0.0140788328361\n",
      "proteins 0.0136724801229\n",
      "server 0.0110139823003\n",
      "boxes 0.00934955954979\n",
      "amino 0.00922738608575\n",
      "sectors 0.00777450401028\n",
      "Topic 24\n",
      "cards 0.0464450280438\n",
      "card 0.0436623833491\n",
      "eigenvectors 0.0302446065273\n",
      "eigenvalues 0.0250776233271\n",
      "eigenvector 0.0116761573252\n",
      "grades 0.0102256565183\n",
      "deck 0.00997918419932\n",
      "grade 0.00831919439529\n",
      "number 0.00800804280947\n",
      "worker 0.00705312072874\n",
      "Topic 25\n",
      "effect 0.0183822667083\n",
      "test 0.0162870130248\n",
      "effects 0.0149337109373\n",
      "group 0.0146737306388\n",
      "data 0.0136122131131\n",
      "model 0.0133457267502\n",
      "random 0.0111144024788\n",
      "groups 0.0105238647189\n",
      "would 0.0104646489957\n",
      "anova 0.0103956883586\n",
      "Topic 26\n",
      "learning 0.0180485040274\n",
      "network 0.0179879226289\n",
      "neural 0.0158407456172\n",
      "weights 0.0107502965163\n",
      "input 0.0103222140976\n",
      "output 0.00984341903104\n",
      "gradient 0.00908007331668\n",
      "networks 0.00887372989275\n",
      "layer 0.00799351968517\n",
      "training 0.00745139103324\n",
      "Topic 27\n",
      "data 0.0138730911139\n",
      "would 0.00935053349667\n",
      "statistics 0.00852344693973\n",
      "statistical 0.0080650753123\n",
      "analysis 0.00682573443284\n",
      "missing 0.00665112516269\n",
      "people 0.00642606084201\n",
      "also 0.00530284876838\n",
      "question 0.00492406985426\n",
      "like 0.00456894944292\n",
      "Topic 28\n",
      "data 0.0228504491005\n",
      "model 0.0184350804589\n",
      "training 0.0124699463797\n",
      "test 0.012231106629\n",
      "validation 0.0113780926728\n",
      "class 0.0106279605245\n",
      "cross 0.0104023846651\n",
      "using 0.0102593703155\n",
      "classification 0.00839156276286\n",
      "features 0.00742314168971\n",
      "Topic 29\n",
      "harmonic 0.0246598044753\n",
      "jackknife 0.0180951571841\n",
      "expenses 0.0121975392921\n",
      "disturbance 0.0115810033541\n",
      "focal 0.00930928336499\n",
      "delete 0.00714640050924\n",
      "resistance 0.00683515633901\n",
      "disturbances 0.00603172048108\n",
      "equivariance 0.00580391323411\n",
      "cage 0.00561823416847\n"
     ]
    }
   ],
   "source": [
    "# Display topics with top 10 words + its probabilities\n",
    "for i in range(len(termIndices)):\n",
    "    print \"Topic %d\" % ( i )\n",
    "    for j in range(10):\n",
    "        print masterWords[termIndices[i][j]], termWeights[i][j]"
   ]
  },
  {
   "cell_type": "markdown",
   "metadata": {},
   "source": [
    "### Interpretation of topics\n",
    "Many of the topics seems to be related to machine learning and statistics. For example, topic 6 above has words such as distribution, function, matrix, random, variance, likelihood, mean and variables. There are also some other topics that are related to text mining such as topic 14, which has words such as word, words, text, sequence, and document. Some other topic includes a topic about sampling (topic 19), which has words such as sampling, species, mcmc, monte, carlo, and gibbs."
   ]
  },
  {
   "cell_type": "markdown",
   "metadata": {},
   "source": [
    "### Documents with its topics"
   ]
  },
  {
   "cell_type": "code",
   "execution_count": 53,
   "metadata": {
    "collapsed": false
   },
   "outputs": [
    {
     "name": "stdout",
     "output_type": "stream",
     "text": [
      "Row(topicDistribution=DenseVector([0.0001, 0.0001, 0.0001, 0.0001, 0.0001, 0.3693, 0.0001, 0.0001, 0.0001, 0.0001, 0.0002, 0.0001, 0.0001, 0.0001, 0.0001, 0.3829, 0.0001, 0.0123, 0.0001, 0.0001, 0.0001, 0.0001, 0.0001, 0.0001, 0.0001, 0.0001, 0.0001, 0.2329, 0.0001, 0.0001]))\n"
     ]
    }
   ],
   "source": [
    "docTransformed = model.transform(parsedDFTest)\n",
    "documentIds = docTransformed.select('id').collect()\n",
    "documentFeatures = docTransformed.select('features').collect()\n",
    "documentTopicDistribtions = docTransformed.select('topicDistribution').collect()\n",
    "\n",
    "print documentTopicDistribtions[0]"
   ]
  },
  {
   "cell_type": "code",
   "execution_count": 82,
   "metadata": {
    "collapsed": false
   },
   "outputs": [],
   "source": [
    "stack_data_docs = stack_data.map(lambda x: (x.split(',')[0], x)).collect()"
   ]
  },
  {
   "cell_type": "code",
   "execution_count": 120,
   "metadata": {
    "collapsed": false
   },
   "outputs": [
    {
     "name": "stdout",
     "output_type": "stream",
     "text": [
      "247361,\"Normality test before testing the difference between two groups. Is it necessary? I would like to know, when comparing the means in two groups, one with 15 patients and another with 70, if it is necessary to test for normality. While it is possible to test for normality, it is often not very useful to do so. Very few datasets come from an exactly normal distribution and many parametric statistical procedures work well even when the distribution is only \"\"kind of normalish\"\".   (I will note that the unequal sample size may mean that procedures might not be quite so robust to departures from normality as would be the case with equal samples.)  When the sample is small it contains little information about its underlying distribution and so the normal distribution test has low power and you get lots of false negatives. Conversely, when the sample is large and the test has high power, it starts to indicate significant departures in cases where the distribution is close enough to normal that there is no real problem.  Examine your data in a couple of normal distribution plots to get a feel for the shape of the distributions. If there is substantial deviation then you can either transform the data (log transformations are often appropriate) or use non-parametric methods. With sample sizes of 17 and 70 most non-parametric tests will have good power relative to the normal distribution based tests. For example, a permutations test will power equal to that of a Student's t-test.  Really you should provide a lot more information in your question, such as what the measurements are, what sort of tests you wish to perform, whether the research is exploratory or designed, what hypotheses you are interested in, and so on. That way the answers can be more specific and you will gain more assistance.\"\n",
      "\n",
      "Most Probable Topic\n",
      "test\n",
      "sample\n",
      "distribution\n",
      "mean\n",
      "value\n",
      "standard\n",
      "data\n",
      "confidence\n",
      "would\n",
      "normal\n"
     ]
    }
   ],
   "source": [
    "import operator\n",
    "\n",
    "docNumber = 8999\n",
    "docID = str(documentIds[docNumber]).split('=')[1][:-1]\n",
    "docTopics = [ float(i) for i in str(documentTopicDistribtions[docNumber]).split('[')[1][:-3].split(',')]\n",
    "index, value = max(enumerate(docTopics), key=operator.itemgetter(1))\n",
    "for i in stack_data_docs:\n",
    "    if int(\"{:.0f}\".format(float(i[0]))) == int(docID):\n",
    "        print i[1]\n",
    "        print 'Most Probable Topic'\n",
    "        for j in range(10):\n",
    "            print masterWords[termIndices[index][j]]"
   ]
  },
  {
   "cell_type": "code",
   "execution_count": 117,
   "metadata": {
    "collapsed": false
   },
   "outputs": [
    {
     "name": "stdout",
     "output_type": "stream",
     "text": [
      "69878,\"Identifying potential for missingness in a seasonal time series to bias period-averages I have high-frequency time series (observations every few minutes) for which I wish to compute daily averages. The data exhibit a strong diel cycle. Sometimes observations are missing in the time series.    For example, I could have 50% of the data missing on a given day.  The effect of this missingness on the daily average isn't immediately obvious given the proportion of missing data. Evenly spaced missingness has little affect (say that 5-minute and 10-minute data give ~same daily average), whereas if all of the missing data are concentrated around the daily minimum/maximum then the daily mean would be biased.  However, the effect of missingness on the daily average not only dependent on the percent of data missing, but also on the evenness of that missingness.  Does anyone know of a good approach for characterizing the potential for missingness to bias the daily average? I'm envisioning some sort of index that incorporates the extent and temporal distribution of missing values, and other factors I may not be considering. Thanks for any guidance.  The figure and R code below use a simple sine wave to illustrate my thinking:     \"\n",
      "\n",
      "Most Probable Topic\n",
      "time\n",
      "series\n",
      "data\n",
      "model\n",
      "would\n",
      "year\n",
      "using\n",
      "forecast\n",
      "arima\n",
      "models\n"
     ]
    }
   ],
   "source": [
    "docNumber = 2379\n",
    "docID = str(documentIds[docNumber]).split('=')[1][:-1]\n",
    "docTopics = [ float(i) for i in str(documentTopicDistribtions[docNumber]).split('[')[1][:-3].split(',')]\n",
    "index, value = max(enumerate(docTopics), key=operator.itemgetter(1))\n",
    "for i in stack_data_docs:\n",
    "    if int(\"{:.0f}\".format(float(i[0]))) == int(docID):\n",
    "        print i[1]\n",
    "        print 'Most Probable Topic'\n",
    "        for j in range(10):\n",
    "            print masterWords[termIndices[index][j]]"
   ]
  },
  {
   "cell_type": "code",
   "execution_count": 112,
   "metadata": {
    "collapsed": false
   },
   "outputs": [
    {
     "name": "stdout",
     "output_type": "stream",
     "text": [
      "38380,\"Consequences from comparison of two models I have time series data for two firms relating cost to quantity produced and I model the two firms' cost functions separately using OLS:  Firm 1:cost_1t= ß_1+ß_2 qty_1t+ ß_3 qty_1t^2+ ß_4 qty_1t^3+ e_1t Firm 2:cost_2t= ß_1+ß_2 qty_2t+ ß_3 qty_2t^2+ ß_4 qty_2t^3+ e_2t  It is believed the firms have the same regression coefficients but doubted the error variances are the same (and a Goldfeld-Quandt test shows the latter).  What are the consequences for the coefficient estimates derived above if:   (i) the 2 firms actually have different variances but the same coefficients and; (ii) the 2 firms have different coefficients but the same variance?  Note, the two separate regressions for the firms appear to show different coefficients.\"\n",
      "\n",
      "Most Probable Topic\n",
      "model\n",
      "regression\n",
      "variables\n",
      "variable\n",
      "data\n",
      "linear\n",
      "would\n",
      "values\n",
      "using\n",
      "models\n"
     ]
    }
   ],
   "source": [
    "docNumber = 1237\n",
    "docID = str(documentIds[docNumber]).split('=')[1][:-1]\n",
    "docTopics = [ float(i) for i in str(documentTopicDistribtions[docNumber]).split('[')[1][:-3].split(',')]\n",
    "index, value = max(enumerate(docTopics), key=operator.itemgetter(1))\n",
    "for i in stack_data_docs:\n",
    "    if int(\"{:.0f}\".format(float(i[0]))) == int(docID):\n",
    "        print i[1]\n",
    "        print 'Most Probable Topic'\n",
    "        for j in range(10):\n",
    "            print masterWords[termIndices[index][j]]"
   ]
  },
  {
   "cell_type": "markdown",
   "metadata": {},
   "source": [
    "### Comment \n",
    "1. The assigned topics seem to make sense. For document 247361, the most probable topic includes words such as test, sample and distribution. The document seems to be about doing a normality test between two groups, and the topic is about testing and statistics. \n",
    "\n",
    "2. For document 69878, the major topic is about time, series, data and model. Reading the document, it seems like there's some sort of time-series data involved and this person is trying to model it. So, the assigned most probable topic makes sense.\n",
    "\n",
    "3. For document 38380, the major topic of this document is about regression and modelling, which is what the most probable topic indicates.\n",
    "\n",
    "Overall, it's quite remarkable how well the topics describe the document."
   ]
  },
  {
   "cell_type": "markdown",
   "metadata": {
    "collapsed": true
   },
   "source": [
    "### Part 2(c): perplexity calc"
   ]
  },
  {
   "cell_type": "markdown",
   "metadata": {},
   "source": [
    "$$Perplexity(\\theta) = \\bigg( \\prod_{D}p_\\theta (D) \\bigg)^{-1/\\sum_D|D|}$$\n",
    "Where D is a test document with |D| words. $p_\\theta(D)$ for a test document that we have not seen before. However, we have already trained the model on training set, which allows us to have the topic-distributions already. Using Bayesian framework + chain rule, we can see that $p_\\theta(D)$ can be expressed as the geometric mean of conditional probabilities of the words that we have already trained with. So, $\\prod_{D}p_\\theta (D) = \\prod p_\\theta(w_1,...,w_N) = \\prod_{n=1}^N p_\\theta (w_n|w_1,...,w_{n-1})$. Also, for set of test documents $\\sum_D |D| = N$. Therefore, leading to \n",
    "$$Perplexity(\\theta) = \\bigg( \\prod_{n=1}^N p_\\theta (w_n|w_1,...,w_{n-1}) \\bigg)^{-1/N}$$\n",
    "\n",
    "To evaluate the test set perplexity for LDA, we need to approximate the topic distribution for the test set and compare that with how well our corpus topic distribution describes it. According to spark.ml library, variational approximation can be used to estimate perplexity. This will return an approximate topic-distribution which will be subtracted from the corpus topic-distribution to get a perplexity value."
   ]
  },
  {
   "cell_type": "markdown",
   "metadata": {
    "collapsed": true
   },
   "source": [
    "### Part 2(d): perplexity vs. # of topics"
   ]
  },
  {
   "cell_type": "code",
   "execution_count": 13,
   "metadata": {
    "collapsed": false
   },
   "outputs": [],
   "source": [
    "# calculate perplexity\n",
    "parsedDataTest = stack_dataTest.map(lambda x: (clean_string(x)))\\\n",
    "                               .map(lambda x: (int(\"{:.0f}\".format(float(x[0]))), Counter(x[1])))\\\n",
    "                               .map(lambda x: map_wordid_count(x, vocabulary))\\\n",
    "                               .map(list)\n",
    "parsedDFTest = parsedDataTest.toDF([\"id\",\"features\"])\n"
   ]
  },
  {
   "cell_type": "code",
   "execution_count": 14,
   "metadata": {
    "collapsed": false
   },
   "outputs": [
    {
     "name": "stdout",
     "output_type": "stream",
     "text": [
      "Topic 0, k= 10\n",
      "training 0.0109116400567\n",
      "learning 0.0106893671543\n",
      "class 0.0105461544937\n",
      "classification 0.00855080847201\n",
      "features 0.00822501126018\n",
      "data 0.00809901597212\n",
      "algorithm 0.00796552253994\n",
      "network 0.00766587456586\n",
      "using 0.00719170410763\n",
      "neural 0.00679148168631\n",
      "Topic 0, k= 20\n",
      "dice 0.0194538260216\n",
      "city 0.0190371539611\n",
      "votes 0.0158420251669\n",
      "vote 0.0132835121217\n",
      "cities 0.012861267694\n",
      "people 0.012179001975\n",
      "brand 0.0118553659989\n",
      "chance 0.011657323141\n",
      "roll 0.0115471337257\n",
      "paradox 0.0102769312937\n",
      "Topic 0, k= 30\n",
      "city 0.041323002283\n",
      "brand 0.0303099942616\n",
      "cities 0.0300035231623\n",
      "paradox 0.0216068469713\n",
      "segment 0.0203014037568\n",
      "share 0.0197146194623\n",
      "segments 0.0135405325888\n",
      "votes 0.013170312332\n",
      "birthday 0.0124029260362\n",
      "market 0.011929767741\n",
      "Topic 0, k= 40\n",
      "brand 0.0431280970002\n",
      "city 0.0405705104515\n",
      "cities 0.0357167260604\n",
      "segment 0.0296356168563\n",
      "share 0.0215518553822\n",
      "segments 0.0186670882336\n",
      "urban 0.0147649137516\n",
      "brands 0.0144783963468\n",
      "rural 0.010973510972\n",
      "market 0.00999139170536\n",
      "Topic 0, k= 50\n",
      "brand 0.0490995968629\n",
      "city 0.0467637654354\n",
      "cities 0.0392563847005\n",
      "share 0.0281633053995\n",
      "market 0.0244119017783\n",
      "segment 0.0222160340793\n",
      "brands 0.0172940385257\n",
      "segments 0.0165424446749\n",
      "urban 0.0151496009493\n",
      "percentage 0.0140534130953\n",
      "Topic 0, k= 60\n",
      "brand 0.0590723279624\n",
      "segment 0.0361458044189\n",
      "share 0.0299238674106\n",
      "segments 0.0265458646012\n",
      "brands 0.0213643198337\n",
      "urban 0.017941612626\n",
      "decline 0.014683910195\n",
      "market 0.014419350129\n",
      "rural 0.0138887445281\n",
      "cities 0.00960841417104\n",
      "Topic 0, k= 70\n",
      "brand 0.0594409454385\n",
      "market 0.0455144154908\n",
      "segment 0.0378102526819\n",
      "share 0.0359718666846\n",
      "segments 0.0224869231358\n",
      "brands 0.0210469495764\n",
      "urban 0.0194008405272\n",
      "decline 0.0155275088258\n",
      "rural 0.0145260193339\n",
      "kidney 0.0062898210503\n",
      "Topic 0, k= 80\n",
      "brand 0.0610400966817\n",
      "cities 0.0419170445308\n",
      "segment 0.0390849448365\n",
      "segments 0.0251148567307\n",
      "brands 0.0222999499242\n",
      "urban 0.0199138015749\n",
      "decline 0.0167982958501\n",
      "share 0.0163925925952\n",
      "market 0.0156625113271\n",
      "rural 0.0141469399381\n",
      "Topic 0, k= 90\n",
      "brand 0.0630472878804\n",
      "segment 0.039888898789\n",
      "market 0.0360241002192\n",
      "cities 0.0339796836282\n",
      "share 0.033137636076\n",
      "segments 0.0266327519841\n",
      "brands 0.0226253555574\n",
      "urban 0.0186320789283\n",
      "decline 0.0166107828823\n",
      "rural 0.0141462922498\n",
      "Topic 0, k= 100\n",
      "brand 0.0650128033465\n",
      "segment 0.0470489039388\n",
      "cities 0.0337022963517\n",
      "segments 0.0324247723078\n",
      "share 0.0245378346954\n",
      "brands 0.0230870439907\n",
      "market 0.0186503694818\n",
      "urban 0.0179840716204\n",
      "decline 0.0176108979196\n",
      "rural 0.0137290363129\n",
      "Topic 0, k= 110\n",
      "brand 0.0659878411551\n",
      "segment 0.0503715239583\n",
      "segments 0.0356287279857\n",
      "share 0.0337482260544\n",
      "cities 0.0255888647813\n",
      "brands 0.0216742528521\n",
      "decline 0.0208414655161\n",
      "market 0.0112772291919\n",
      "kidney 0.00572308958581\n",
      "speeds 0.0032409673191\n",
      "Topic 0, k= 120\n",
      "brand 0.0741092021577\n",
      "share 0.0296835753562\n",
      "cities 0.0284818677238\n",
      "brands 0.0268166896976\n",
      "segment 0.0240988908478\n",
      "decline 0.0199929220661\n",
      "market 0.0189532671162\n",
      "segments 0.0124543385245\n",
      "kidney 0.00768853575988\n",
      "ownership 0.00440602184854\n",
      "Topic 0, k= 130\n",
      "brand 0.079114939103\n",
      "segment 0.0516528727104\n",
      "segments 0.0342884593501\n",
      "brands 0.0286069997522\n",
      "share 0.0257120207022\n",
      "market 0.01350967922\n",
      "wine 0.00426082938764\n",
      "consumers 0.00400569616547\n",
      "clothing 0.0034039634691\n",
      "chord 0.0032120079607\n",
      "Topic 0, k= 140\n",
      "segment 0.0562771403948\n",
      "segments 0.0414130995616\n",
      "cities 0.0349800861619\n",
      "share 0.0236018987799\n",
      "urban 0.0217278358231\n",
      "mape 0.021654944701\n",
      "rural 0.016528282117\n",
      "market 0.0111998439129\n",
      "brand 0.0040375288616\n",
      "trips 0.00393928643734\n",
      "Topic 0, k= 150\n",
      "brand 0.061823825951\n",
      "segment 0.0472365662259\n",
      "cities 0.0425524652995\n",
      "segments 0.0347017608157\n",
      "share 0.0280411814075\n",
      "brands 0.0238343548307\n",
      "urban 0.0198048857669\n",
      "rural 0.0145255693403\n",
      "rectangle 0.0102540776018\n",
      "decline 0.00870349967845\n",
      "Topic 0, k= 160\n",
      "brand 0.0549102448252\n",
      "market 0.0506935692441\n",
      "cities 0.0393519723421\n",
      "segment 0.0361282182007\n",
      "share 0.0327948259471\n",
      "segments 0.0203706895863\n",
      "brands 0.0192815564834\n",
      "city 0.0175540000945\n",
      "urban 0.0159722050087\n",
      "rectangle 0.0126634318269\n",
      "Topic 0, k= 170\n",
      "cities 0.0575609770867\n",
      "segment 0.0538345098995\n",
      "segments 0.0400477407254\n",
      "share 0.0383873695217\n",
      "city 0.0279662751697\n",
      "urban 0.0211793297636\n",
      "rural 0.0161580397666\n",
      "market 0.0120977565611\n",
      "kidney 0.00726867203154\n",
      "trip 0.00644149023556\n",
      "Topic 0, k= 180\n",
      "brand 0.0846942467118\n",
      "segment 0.0367055451392\n",
      "share 0.0354523002435\n",
      "brands 0.0309394154401\n",
      "market 0.0256760569334\n",
      "segments 0.0161517496096\n",
      "urban 0.010661769937\n",
      "rural 0.00871362381579\n",
      "banana 0.00362054387495\n",
      "clothing 0.0034907019178\n",
      "Topic 0, k= 190\n",
      "class 0.000634576164614\n",
      "values 0.000609666004539\n",
      "i've 0.000603828468052\n",
      "question 0.0005754776008\n",
      "formulations 0.000527210810626\n",
      "example 0.000522519043184\n",
      "classifier 0.000514599876084\n",
      "classification 0.000491687342813\n",
      "group 0.00048968561694\n",
      "could 0.000471334102312\n",
      "Topic 0, k= 200\n",
      "share 0.0555954161044\n",
      "segment 0.0378209539637\n",
      "urban 0.0239331987066\n",
      "paradox 0.0237951589679\n",
      "rural 0.0182165453985\n",
      "segments 0.0165185306575\n",
      "simpson's 0.0139985442485\n",
      "market 0.0110806936419\n",
      "kidney 0.00981798592841\n",
      "shares 0.00795764486052\n"
     ]
    }
   ],
   "source": [
    "numTopics = []\n",
    "perplexities = []\n",
    "\n",
    "for i in range(20):\n",
    "    i = (i + 1) * 10\n",
    "    numTopics.append(i)\n",
    "    lda = LDA(k=i, maxIter=50)\n",
    "    model = lda.fit(parsedDF)\n",
    "    perplexity = model.logPerplexity(parsedDFTest)\n",
    "    perplexities.append(perplexity)\n",
    "    termIndices = model.describeTopics().select(\"termIndices\").rdd.map(list).map(lambda x:x[0]).collect()\n",
    "    termWeights = model.describeTopics().select(\"termWeights\").rdd.map(list).map(lambda x:x[0]).collect()\n",
    "    print \"Topic 0, k=\", i\n",
    "    for j in range(10):\n",
    "        print masterWords[termIndices[0][j]], termWeights[0][j]"
   ]
  },
  {
   "cell_type": "code",
   "execution_count": 18,
   "metadata": {
    "collapsed": false
   },
   "outputs": [
    {
     "name": "stdout",
     "output_type": "stream",
     "text": [
      "[10, 20, 30, 40, 50, 60, 70, 80, 90, 100, 110, 120, 130, 140, 150, 160, 170, 180, 190, 200] [7.570712890269092, 7.705686982327903, 7.861924748890604, 8.07195890957693, 8.281346349483734, 8.52087887107468, 8.755343809534672, 9.001391492810448, 9.282977504920812, 9.549741963741807, 9.849841152932228, 10.12630960892443, 10.40568212721225, 10.726585997995038, 11.03235583627134, 11.334030253920009, 11.649509388085194, 11.98946066379855, 12.309946200241583, 12.645161505166872]\n"
     ]
    },
    {
     "data": {
      "text/plain": [
       "<matplotlib.text.Text at 0x7f23d3daba50>"
      ]
     },
     "execution_count": 18,
     "metadata": {},
     "output_type": "execute_result"
    },
    {
     "data": {
      "image/png": "[encoded data removed]",
      "text/plain": [
       "<matplotlib.figure.Figure at 0x7f23d372a950>"
      ]
     },
     "metadata": {},
     "output_type": "display_data"
    }
   ],
   "source": [
    "print numTopics, perplexities\n",
    "plt.plot(numTopics, perplexities,'-o')\n",
    "plt.xticks(fontsize=14)\n",
    "plt.yticks(fontsize=14)\n",
    "plt.xlabel('k (number of topics)', fontsize=16, fontweight='bold')\n",
    "plt.ylabel('Perplexity', fontsize=16, fontweight='bold')"
   ]
  },
  {
   "cell_type": "markdown",
   "metadata": {},
   "source": [
    "### Comment\n",
    "Based on the plot above and the quality of one of the topics, k=10 seems to be the best model. LogPerplexity is the lowest for k=10, and looking at the topic words, it seems to be populated with words that are related to machine learning such as training, learning, data, class, classification and algorithm. However, as k increases, the topic words begin to make less and less sense. Even at k=20, there's a combination of dice+chances, cities and votes, I'm not quite sure what this topic is suppsoed to be...\n"
   ]
  }
 ],
 "metadata": {
  "kernelspec": {
   "display_name": "Python 2",
   "language": "python",
   "name": "python2"
  },
  "language_info": {
   "codemirror_mode": {
    "name": "ipython",
    "version": 2
   },
   "file_extension": ".py",
   "mimetype": "text/x-python",
   "name": "python",
   "nbconvert_exporter": "python",
   "pygments_lexer": "ipython2",
   "version": "2.7.12"
  }
 },
 "nbformat": 4,
 "nbformat_minor": 2
}
