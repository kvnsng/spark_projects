{
 "cells": [
  {
   "cell_type": "markdown",
   "metadata": {},
   "source": [
    "In this problem, you will work with 2,924,163 beer reviews from https://www.ratebeer. com. One entry contains the text of the consumer’s review together with ratings of appearance, aroma, palate, style, taste, and an overall score from 0 to 20. The data also include the name, id and brewer of the beer. You will give reviews binary label: 1 for a positive review with overall score at least 14, and 0 for a negative review."
   ]
  },
  {
   "cell_type": "code",
   "execution_count": 1,
   "metadata": {
    "collapsed": true
   },
   "outputs": [],
   "source": [
    "%matplotlib inline\n",
    "import numpy as np\n",
    "import matplotlib.pyplot as plt\n",
    "from pyspark.sql import SparkSession\n",
    "import string\n",
    "from collections import Counter\n",
    "from PIL import Image\n",
    "from operator import add\n",
    "import json\n",
    "import re\n",
    "from scipy.sparse import coo_matrix\n",
    "\n",
    "spark = SparkSession.builder.master('local[16]').appName('beer').getOrCreate()"
   ]
  },
  {
   "cell_type": "markdown",
   "metadata": {},
   "source": [
    "# Part 1: Data inspection."
   ]
  },
  {
   "cell_type": "code",
   "execution_count": 2,
   "metadata": {
    "collapsed": false
   },
   "outputs": [
    {
     "name": "stdout",
     "output_type": "stream",
     "text": [
      "+----------+-----+-------+--------------------+------+-------+------+--------------------+---------+-----+-----+\n",
      "|appearance|aroma|beer_id|           beer_name|brewer|overall|palate|              review|review_id|style|taste|\n",
      "+----------+-----+-------+--------------------+------+-------+------+--------------------+---------+-----+-----+\n",
      "|       4.0|  6.0|  45842|John Harvards Sim...|  3084|   13.0|   3.0|On tap at the Spr...|        0|   17|  6.0|\n",
      "|       4.0|  6.0|  45842|John Harvards Sim...|  3084|   13.0|   4.0|On tap at the Joh...|        1|   17|  7.0|\n",
      "+----------+-----+-------+--------------------+------+-------+------+--------------------+---------+-----+-----+\n",
      "only showing top 2 rows\n",
      "\n"
     ]
    }
   ],
   "source": [
    "#load data\n",
    "raw_df = spark.read.json(\"/project/cmsc25025/beer_review/labeled.json\")\n",
    "raw_df.show(2)"
   ]
  },
  {
   "cell_type": "code",
   "execution_count": 3,
   "metadata": {
    "collapsed": false
   },
   "outputs": [
    {
     "name": "stdout",
     "output_type": "stream",
     "text": [
      "rating_df: [(u'John Harvards Simcoe IPA', 3084, 13.0, 1)]\n",
      "rating_df_byBrewer: [(0, [1.0, 3.0, 4.0, 5.0, 5.0, 5.0, 6.0, 6.0, 6.0, 6.0, 6.0, 7.0, 7.0, 7.0, 7.0, 7.0, 7.0, 7.0, 7.0, 8.0, 8.0, 8.0, 8.0, 8.0, 8.0, 8.0, 8.0, 8.0, 8.0, 8.0, 9.0, 9.0, 9.0, 9.0, 9.0, 9.0, 9.0, 9.0, 9.0, 9.0, 9.0, 9.0, 9.0, 9.0, 9.0, 9.0, 9.0, 9.0, 9.0, 9.0, 9.0, 9.0, 9.0, 9.0, 10.0, 10.0, 10.0, 10.0, 10.0, 10.0, 10.0, 10.0, 10.0, 10.0, 10.0, 10.0, 10.0, 10.0, 10.0, 10.0, 10.0, 10.0, 10.0, 10.0, 10.0, 10.0, 10.0, 10.0, 10.0, 10.0, 10.0, 10.0, 10.0, 10.0, 10.0, 10.0, 10.0, 10.0, 10.0, 11.0, 11.0, 11.0, 11.0, 11.0, 11.0, 11.0, 11.0, 11.0, 11.0, 11.0, 11.0, 11.0, 11.0, 11.0, 11.0, 11.0, 11.0, 11.0, 11.0, 11.0, 11.0, 11.0, 11.0, 11.0, 11.0, 11.0, 11.0, 11.0, 11.0, 11.0, 11.0, 11.0, 11.0, 11.0, 11.0, 12.0, 12.0, 12.0, 12.0, 12.0, 12.0, 12.0, 12.0, 12.0, 12.0, 12.0, 12.0, 12.0, 12.0, 12.0, 12.0, 12.0, 12.0, 12.0, 12.0, 12.0, 12.0, 12.0, 12.0, 12.0, 12.0, 12.0, 12.0, 12.0, 12.0, 12.0, 12.0, 12.0, 12.0, 12.0, 12.0, 12.0, 12.0, 12.0, 12.0, 12.0, 12.0, 12.0, 12.0, 12.0, 12.0, 12.0, 12.0, 12.0, 12.0, 12.0, 12.0, 12.0, 12.0, 12.0, 12.0, 12.0, 12.0, 12.0, 12.0, 12.0, 12.0, 12.0, 12.0, 12.0, 12.0, 12.0, 12.0, 12.0, 12.0, 12.0, 12.0, 12.0, 12.0, 12.0, 13.0, 13.0, 13.0, 13.0, 13.0, 13.0, 13.0, 13.0, 13.0, 13.0, 13.0, 13.0, 13.0, 13.0, 13.0, 13.0, 13.0, 13.0, 13.0, 13.0, 13.0, 13.0, 13.0, 13.0, 13.0, 13.0, 13.0, 13.0, 13.0, 13.0, 13.0, 13.0, 13.0, 13.0, 13.0, 13.0, 13.0, 13.0, 13.0, 13.0, 13.0, 13.0, 13.0, 13.0, 13.0, 13.0, 13.0, 13.0, 13.0, 13.0, 13.0, 13.0, 13.0, 13.0, 13.0, 13.0, 13.0, 13.0, 13.0, 13.0, 13.0, 13.0, 13.0, 13.0, 13.0, 13.0, 13.0, 13.0, 13.0, 13.0, 13.0, 13.0, 13.0, 13.0, 13.0, 13.0, 13.0, 13.0, 13.0, 13.0, 13.0, 13.0, 13.0, 13.0, 14.0, 14.0, 14.0, 14.0, 14.0, 14.0, 14.0, 14.0, 14.0, 14.0, 14.0, 14.0, 14.0, 14.0, 14.0, 14.0, 14.0, 14.0, 14.0, 14.0, 14.0, 14.0, 14.0, 14.0, 14.0, 14.0, 14.0, 14.0, 14.0, 14.0, 14.0, 14.0, 14.0, 14.0, 14.0, 14.0, 14.0, 14.0, 14.0, 14.0, 14.0, 14.0, 14.0, 14.0, 14.0, 14.0, 14.0, 14.0, 14.0, 14.0, 14.0, 14.0, 14.0, 14.0, 14.0, 14.0, 14.0, 14.0, 14.0, 14.0, 14.0, 14.0, 14.0, 14.0, 14.0, 14.0, 14.0, 14.0, 14.0, 14.0, 14.0, 14.0, 14.0, 14.0, 14.0, 14.0, 14.0, 14.0, 14.0, 14.0, 14.0, 14.0, 14.0, 14.0, 14.0, 14.0, 14.0, 14.0, 14.0, 14.0, 14.0, 14.0, 14.0, 14.0, 14.0, 14.0, 14.0, 14.0, 15.0, 15.0, 15.0, 15.0, 15.0, 15.0, 15.0, 15.0, 15.0, 15.0, 15.0, 15.0, 15.0, 15.0, 15.0, 15.0, 15.0, 15.0, 15.0, 15.0, 15.0, 15.0, 15.0, 15.0, 15.0, 15.0, 15.0, 15.0, 15.0, 15.0, 15.0, 15.0, 15.0, 15.0, 15.0, 15.0, 15.0, 15.0, 15.0, 15.0, 15.0, 15.0, 15.0, 15.0, 15.0, 15.0, 15.0, 15.0, 15.0, 15.0, 15.0, 15.0, 15.0, 15.0, 15.0, 15.0, 15.0, 15.0, 15.0, 15.0, 15.0, 15.0, 15.0, 15.0, 15.0, 15.0, 15.0, 15.0, 15.0, 15.0, 15.0, 15.0, 15.0, 15.0, 15.0, 15.0, 15.0, 15.0, 15.0, 16.0, 16.0, 16.0, 16.0, 16.0, 16.0, 16.0, 16.0, 16.0, 16.0, 16.0, 16.0, 16.0, 16.0, 16.0, 16.0, 16.0, 16.0, 16.0, 16.0, 16.0, 16.0, 16.0, 16.0, 16.0, 16.0, 16.0, 16.0, 16.0, 16.0, 16.0, 16.0, 16.0, 16.0, 16.0, 16.0, 16.0, 17.0, 17.0, 17.0, 17.0, 17.0, 17.0, 17.0, 17.0, 17.0, 17.0, 17.0, 17.0, 17.0, 17.0, 17.0, 17.0, 18.0, 18.0, 18.0, 18.0, 18.0])]\n"
     ]
    }
   ],
   "source": [
    "#check the mean, median and standard deviation of the overall ratings for each beer and brewer\n",
    "\n",
    "#map all reviews to (beer_name, brewer_id, overall_rating, 1)\n",
    "rating_df = raw_df.rdd.map(lambda x: (x['beer_name'], x['brewer'], x['overall'], 1))\n",
    "print \"rating_df:\", rating_df.take(1)\n",
    "\n",
    "#reduce byBrewer to (brewer_id, [sorted_list_of_ratings])\n",
    "rating_df_byBrewer = rating_df.map(lambda x: (x[1],[x[2]])).reduceByKey(add).map(lambda x: (x[0],sorted(x[1])))\n",
    "print \"rating_df_byBrewer:\", rating_df_byBrewer.take(1)"
   ]
  },
  {
   "cell_type": "code",
   "execution_count": 4,
   "metadata": {
    "collapsed": false
   },
   "outputs": [],
   "source": [
    "def std_gt_one(x):\n",
    "    #compute stdev only if len(x) > 1\n",
    "    if len(x) > 1:\n",
    "        return np.std(x)\n",
    "    else:\n",
    "        return np.nan\n",
    "# a=[]\n",
    "# print std_gt_one(a)\n",
    "# a=[1,2]\n",
    "# print std_gt_one(a)"
   ]
  },
  {
   "cell_type": "code",
   "execution_count": 5,
   "metadata": {
    "collapsed": false
   },
   "outputs": [
    {
     "name": "stdout",
     "output_type": "stream",
     "text": [
      "rating_df_byBrewer: [(0, 12.836223506743737, 2.5432971325766625, 13.0)]\n"
     ]
    }
   ],
   "source": [
    "#map to (brewer_id, mean, std, median ratings)\n",
    "rating_df_byBrewer = rating_df_byBrewer.map(lambda x: (x[0],np.mean(x[1]), std_gt_one(x[1]), np.median(x[1])))\n",
    "print \"rating_df_byBrewer:\",rating_df_byBrewer.take(1)"
   ]
  },
  {
   "cell_type": "code",
   "execution_count": 6,
   "metadata": {
    "collapsed": false
   },
   "outputs": [
    {
     "name": "stdout",
     "output_type": "stream",
     "text": [
      "rating_df_byBeer: [(u'Legend Red Ale', 14.666666666666666, 0.47140452079103168, 15.0)]\n"
     ]
    }
   ],
   "source": [
    "#map to (beer_id, mean, std, median ratings)\n",
    "rating_df_byBeer = rating_df.map(lambda x: (x[0],[x[2]])).reduceByKey(add).map(lambda x: (x[0],sorted(x[1])))\n",
    "rating_df_byBeer = rating_df_byBeer.map(lambda x: (x[0],np.mean(x[1]), std_gt_one(x[1]), np.median(x[1])))\n",
    "print \"rating_df_byBeer:\",rating_df_byBeer.take(1)"
   ]
  },
  {
   "cell_type": "code",
   "execution_count": 7,
   "metadata": {
    "collapsed": true
   },
   "outputs": [],
   "source": [
    "def histPlot(x,mytitle):\n",
    "    #plot histogram of values (assume a list)\n",
    "    x = np.array(x)\n",
    "    x = x[~np.isnan(x)]\n",
    "    n, bins, patches = plt.hist(x, 50, normed=1, facecolor='green', alpha=0.75)\n",
    "    plt.xlabel('stdev of reviews')\n",
    "    plt.ylabel('probability')\n",
    "    plt.title(mytitle)\n",
    "    plt.show()\n",
    "    return plt"
   ]
  },
  {
   "cell_type": "code",
   "execution_count": 9,
   "metadata": {
    "collapsed": false
   },
   "outputs": [
    {
     "data": {
      "image/png": "[encoded data removed]",
      "text/plain": [
       "<matplotlib.figure.Figure at 0x7f19f404e550>"
      ]
     },
     "metadata": {},
     "output_type": "display_data"
    },
    {
     "data": {
      "image/png": "[encoded data removed]",
      "text/plain": [
       "<matplotlib.figure.Figure at 0x7f19f3748810>"
      ]
     },
     "metadata": {},
     "output_type": "display_data"
    },
    {
     "data": {
      "text/plain": [
       "<module 'matplotlib.pyplot' from '/software/python-2.7-2015q2-el6-x86_64/lib/python2.7/site-packages/matplotlib/pyplot.pyc'>"
      ]
     },
     "execution_count": 9,
     "metadata": {},
     "output_type": "execute_result"
    }
   ],
   "source": [
    "list_ratings_byBeer = rating_df_byBeer.map(lambda x: x[2]).collect()\n",
    "histPlot(list_ratings_byBeer,'stdev_ratings_by_beer')\n",
    "list_ratings_byBrewer = rating_df_byBrewer.map(lambda x: x[2]).collect()\n",
    "histPlot(list_ratings_byBrewer,'stdev_ratings_by_brewer')"
   ]
  },
  {
   "cell_type": "code",
   "execution_count": null,
   "metadata": {
    "collapsed": false
   },
   "outputs": [],
   "source": [
    "#find max overall rating\n",
    "print \"max overall score:\", raw_df.rdd.map(lambda x: x['overall']).max()"
   ]
  },
  {
   "cell_type": "markdown",
   "metadata": {},
   "source": [
    "It looks like people are fairly consistent with their reviews for the same brewer and beer. The standard deviation of overall scores (max=20) is on avg about 2-3."
   ]
  },
  {
   "cell_type": "markdown",
   "metadata": {},
   "source": [
    "# Part 2: Sentiment analysis."
   ]
  },
  {
   "cell_type": "markdown",
   "metadata": {},
   "source": [
    "## (1) Generating features."
   ]
  },
  {
   "cell_type": "markdown",
   "metadata": {},
   "source": [
    "You need to represent text reviews in terms of a vector of features (covariates). One simple but effective representation is to use membership in a fixed vocab- ulary. Suppose the vocabulary contains p words. For a given review, you normalize the text, and separate it into space-delimited tokens. For each of the tokens, if it is in the dictionary you have a one for the corresponding word in the feature vector, and you ignore it otherwise."
   ]
  },
  {
   "cell_type": "code",
   "execution_count": 3,
   "metadata": {
    "collapsed": false
   },
   "outputs": [],
   "source": [
    "with open('/project/cmsc25025/beer_review/vocab_50.json', 'r') as f:\n",
    "         vocab = json.load(f)\n",
    "#vocab is a dictionary: {word:id}. e.g., vocab['amazing']=573\n",
    "#n, bins, patches = plt.hist(vocab.values(), 50, normed=1, facecolor='green', alpha=0.75)"
   ]
  },
  {
   "cell_type": "code",
   "execution_count": 4,
   "metadata": {
    "collapsed": false
   },
   "outputs": [
    {
     "name": "stdout",
     "output_type": "stream",
     "text": [
      "vocab length: 30009\n",
      "no. reviews:  2486348\n"
     ]
    }
   ],
   "source": [
    "print \"vocab length:\", len(vocab)\n",
    "print \"no. reviews: \", raw_df.count()"
   ]
  },
  {
   "cell_type": "code",
   "execution_count": 5,
   "metadata": {
    "collapsed": true
   },
   "outputs": [],
   "source": [
    "#go through reviews: \n",
    "#1. clean up text (keep words only); \n",
    "#2. map review to vocab --> a sparse.coo_matrix;\n",
    "#3. filter out reviews w/o matches to vocab  \n",
    "\n",
    "def cleanString(s):\n",
    "    #s=re.split(\"[ ]\",s)\n",
    "    s.encode(\"utf-8\")\n",
    "    s = re.sub('([^A-Za-z]+)',\" \",s.lower())\n",
    "    return re.split(\"[ ]\",s.encode(\"utf-8\"))\n",
    "\n",
    "def mapToMasterKeys(review, vocab):\n",
    "    #map review to vocabulary as a sparse vector\n",
    "    \n",
    "    #make a counter to collapse review into a dictionary, exclude duplicates, etc.\n",
    "    review = Counter(review)\n",
    "    \n",
    "    #all words in current review\n",
    "    keys = review.viewkeys()\n",
    "    \n",
    "    #initialize vars for sparse vector construction\n",
    "    row = np.zeros((len(keys)+1)) #len(keys)+1 includes intercept\n",
    "    col = np.zeros((len(keys)+1))\n",
    "    data = np.zeros((len(keys)+1))\n",
    "    count=0\n",
    "    \n",
    "    #map words to master wordlist\n",
    "    for key in keys:\n",
    "        #get index of key in master vocab\n",
    "        try:\n",
    "            ix = vocab[key]\n",
    "            #place 1 in ix position of vector\n",
    "            col[count] = ix\n",
    "            data[count] = 1\n",
    "            count=count+1\n",
    "        except KeyError:\n",
    "            continue\n",
    "    \n",
    "    #add 1 to the last entry = intercept\n",
    "    col[count] = len(keys)\n",
    "    data[count] = 1\n",
    "    row[count] = 0\n",
    "    #forget about an intercept for now\n",
    "    \n",
    "    #return a sparse vector\n",
    "    sparseVec = coo_matrix((data, (row, col)),(1,len(vocab)+1)) #len(vocab)+1 includes intercept\n",
    "    return sparseVec\n",
    "\n",
    "def binaryScore(x):\n",
    "    if x>14:\n",
    "        x=1\n",
    "    else:\n",
    "        x=0\n",
    "    return x"
   ]
  },
  {
   "cell_type": "code",
   "execution_count": 6,
   "metadata": {
    "collapsed": true
   },
   "outputs": [],
   "source": [
    "#split data into training, dev, valid\n",
    "train, dev, test = raw_df.rdd.randomSplit([70, 15, 15])"
   ]
  },
  {
   "cell_type": "code",
   "execution_count": 8,
   "metadata": {
    "collapsed": false
   },
   "outputs": [],
   "source": [
    "#represent review as a sparse feature vector\n",
    "df_sparse_vec = train.map(lambda x: (x['review'],x['overall'])).\\\n",
    "                            map(lambda x: (mapToMasterKeys(cleanString(x[0]),vocab),binaryScore(x[1])))"
   ]
  },
  {
   "cell_type": "code",
   "execution_count": 9,
   "metadata": {
    "collapsed": false
   },
   "outputs": [
    {
     "name": "stdout",
     "output_type": "stream",
     "text": [
      "[(<1x30010 sparse matrix of type '<type 'numpy.float64'>'\n",
      "\twith 55 stored elements in COOrdinate format>, 0)]\n"
     ]
    }
   ],
   "source": [
    "print df_sparse_vec.take(1)"
   ]
  },
  {
   "cell_type": "code",
   "execution_count": 10,
   "metadata": {
    "collapsed": false
   },
   "outputs": [
    {
     "name": "stdout",
     "output_type": "stream",
     "text": [
      "avg 0-1 score is:  0.389436990417\n"
     ]
    }
   ],
   "source": [
    "#get avg [0,1] score\n",
    "avg_score = df_sparse_vec.map(lambda x: x[1]).mean()\n",
    "print 'avg 0-1 score is: ', avg_score"
   ]
  },
  {
   "cell_type": "markdown",
   "metadata": {},
   "source": [
    "## (2) Stochastic gradient descent."
   ]
  },
  {
   "cell_type": "markdown",
   "metadata": {},
   "source": [
    "Your next job is to train an $l_2$-regularized logistic regression classifier using stochastic gradient descent. Recall the SGD framework that was covered in class: the reviews are coming in one by one and processed on the fly. As you process a review, update your model using the (stochastic) gradient computed on that review. We will use a variant algorithm called mini-batch SGD:\n",
    "\n",
    "i. Initialize the model with $β = 0$ (uniform).\n",
    "\n",
    "ii. Randomly split the training data into mini-batches. Make one pass of the data, processing\n",
    "one mini-batch in every iteration. This is called one training epoch. \n",
    "\n",
    "iii. Repeat the last step a few times."
   ]
  },
  {
   "cell_type": "code",
   "execution_count": 11,
   "metadata": {
    "collapsed": false
   },
   "outputs": [],
   "source": [
    "#initialize model with betas=0\n",
    "beta = np.zeros((1,len(vocab)+1)) #len(vocab)+1 includes intercept"
   ]
  },
  {
   "cell_type": "code",
   "execution_count": 12,
   "metadata": {
    "collapsed": false
   },
   "outputs": [],
   "source": [
    "#split data into mini-batches\n",
    "numrev = df_sparse_vec.count()\n",
    "batchsize = 300*50\n",
    "numbatches = int(float(numrev)/float(batchsize))\n",
    "\n",
    "df_sparse_sample = []\n",
    "# for i in np.arange(numbatches):\n",
    "#     df_sparse_sample.append(df_sparse_vec.sample('False', float(batchsize)/float(numrev), seed=123).cache())\n",
    "weights = [1 for i in range(numbatches)]\n",
    "df_sparse_sample = df_sparse_vec.randomSplit(weights)\n",
    "#df_sparse_sample[1].count() #= 32 in first batch\n",
    "#df_sparse_sample[1].take(2)\n",
    "#print weights"
   ]
  },
  {
   "cell_type": "code",
   "execution_count": 38,
   "metadata": {
    "collapsed": false
   },
   "outputs": [
    {
     "name": "stdout",
     "output_type": "stream",
     "text": [
      "15092\n",
      "14893\n"
     ]
    }
   ],
   "source": [
    "print df_sparse_sample[1].count()\n",
    "print df_sparse_sample[2].count()"
   ]
  },
  {
   "cell_type": "code",
   "execution_count": 13,
   "metadata": {
    "collapsed": true
   },
   "outputs": [],
   "source": [
    "#cache all RDDs for faster evaluation\n",
    "for i in range(len(df_sparse_sample)):\n",
    "    df_sparse_sample[i].cache()"
   ]
  },
  {
   "cell_type": "code",
   "execution_count": 15,
   "metadata": {
    "collapsed": false
   },
   "outputs": [],
   "source": [
    "#helper functions to run SGD\n",
    "import numpy as np\n",
    "import time\n",
    "\n",
    "def pi_log(beta,x):\n",
    "    #logistic regression estimate of probability y=1/(1+exp(-beta*x)) and prediction of y (=yhat)\n",
    "    yhat = (x.dot(beta.transpose())) \n",
    "    yhat = yhat[0][0] #dot product value is in [0][0] entry\n",
    "    #print \"yhat: \", yhat\n",
    "    pi = float(1.0)/(float(1.0)+np.exp(-yhat))\n",
    "    return pi, yhat\n",
    "\n",
    "def update_beta(beta,eta,lam,x,y_min_pi):\n",
    "    #update betas according to gradient with learning rate (=eta) and regularization (=lam)\n",
    "    #pi, yhat = pi_log(beta,x) #pi=logistic regression estimate\n",
    "    return beta + eta*((x.multiply(y_min_pi)).toarray() - lam*beta)\n",
    "\n",
    "def eval_one_batch(beta0,eta,lam,myrdd):\n",
    "    #run SGD on a single batch\n",
    "    #assume myrdd has rows as ([sparse_vec_map2vocab],score), beta =[numpy_array_rowvec]\n",
    "    \n",
    "    #collect into a list for easier processing\n",
    "    myrdd_list = myrdd.collect()\n",
    "    #print \"myrdd_list[0]: \", myrdd_list[0]\n",
    "    \n",
    "    beta = beta0 #initialize betas\n",
    "    yerr=[] #store error in y\n",
    "    yres=[] #store residual\n",
    "    loglike=[] #store log likelihood\n",
    "    \n",
    "    for n in np.arange(len(myrdd_list)):\n",
    "        x=myrdd_list[n][0]\n",
    "        y=myrdd_list[n][1]\n",
    "        pi, yhat = pi_log(beta,x)\n",
    "        #print n, pi, yhat,(y-pi)\n",
    "        \n",
    "        #compute residual\n",
    "        yres.append(y-pi)\n",
    "        \n",
    "        #compute error rate = is prediction right or wrong?\n",
    "        if (y==1 and pi >= 0.5) or (y==0 and pi < 0.5): #got this right\n",
    "            yerr.append(0) #error = 0\n",
    "        else:\n",
    "            yerr.append(1)\n",
    "        beta = update_beta(beta,eta,lam,x,y-pi)\n",
    "        \n",
    "        #compute log likelihood = pi if y=1, (1-p) if y=0\n",
    "        if (y==1):\n",
    "            loglike.append(np.log(pi))\n",
    "        else:\n",
    "            loglike.append(np.log(float(1.0)-pi))\n",
    "            \n",
    "    return beta, yres, yerr, loglike\n",
    "\n",
    "def validate(beta,myrdd_row):\n",
    "    #test logistic prediction for one set of betas and one row of rdd\n",
    "    #return prediction error for that row\n",
    "    x=myrdd_row[0]\n",
    "    y=myrdd_row[1]\n",
    "    pi, yhat = pi_log(beta,x)\n",
    "    \n",
    "    yerr = []\n",
    "    if (y==1 and pi >=0.5) or (y==0 and pi < 0.5): #got this right\n",
    "        yerr = 0\n",
    "    else:\n",
    "        yerr = 1\n",
    "    #print 'test yerr=', yerr\n",
    "    #print 'test pi=', pi\n",
    "    return yerr, pi, y\n",
    "  \n",
    "def eval_all(beta0,eta0,lam,all_rdd):\n",
    "    #run one pass of SGD on all batches\n",
    "    numbatches = len(all_rdd)\n",
    "    #c1=0.02\n",
    "    c1=eta0\n",
    "    c2=0.5 #1 #0.5\n",
    "    eta=eta0\n",
    "    beta = beta0\n",
    "    error_rate = []\n",
    "    residuals = []\n",
    "    sum_loglike = []\n",
    "    for t in np.arange(numbatches):\n",
    "        eta = c1/(t+1.0)**c2\n",
    "        \n",
    "        start = time.time()\n",
    "        print \"\\n******** batch no. \", t, ', eta=', eta \n",
    "        \n",
    "        myrdd = all_rdd[t]\n",
    "        beta, yres, yerr, loglike = eval_one_batch(beta,eta,lam,myrdd)\n",
    "        abs_error = sum(np.abs(yres))\n",
    "        print 'sum_abs_res = ', abs_error, 'for batchsize=', len(yres), 'norm(beta): ', np.linalg.norm(beta)\n",
    "        print 'no. wrong pred = ', sum(yerr), ', log(like)=', sum(loglike)\n",
    "        print '********* took: ', time.time()-start, ' sec. to complete'\n",
    "        \n",
    "        error_rate.append(float(sum(yerr))/float(len(yres)))\n",
    "        residuals.append(abs_error)\n",
    "        sum_loglike.append(sum(loglike))\n",
    "        \n",
    "        #break out of loop if not making progress in SGD\n",
    "        if t>5 and np.std(error_rate[-5:]) < 0.0005:\n",
    "            print \"---- SGD not making progress for past 5 batches! aborting SGD -----\"\n",
    "            break\n",
    "    return error_rate, residuals, sum_loglike, beta\n",
    "        \n",
    "    "
   ]
  },
  {
   "cell_type": "code",
   "execution_count": 16,
   "metadata": {
    "collapsed": false
   },
   "outputs": [],
   "source": [
    "mybatch = df_sparse_sample[1]\n",
    "beta0=beta\n",
    "eta0=0.5\n",
    "lam=0.005 #tested (below) values from 10^-4 to 10^3, looks like between 10e-2 and 10e-4 is best\n",
    "#a,b=eval_one_batch(beta0,eta0,lam,mybatch)"
   ]
  },
  {
   "cell_type": "code",
   "execution_count": 17,
   "metadata": {
    "collapsed": false
   },
   "outputs": [
    {
     "name": "stdout",
     "output_type": "stream",
     "text": [
      "116\n"
     ]
    }
   ],
   "source": [
    "print len(df_sparse_sample)"
   ]
  },
  {
   "cell_type": "code",
   "execution_count": 18,
   "metadata": {
    "collapsed": false
   },
   "outputs": [
    {
     "name": "stdout",
     "output_type": "stream",
     "text": [
      "\n",
      "******** batch no.  0 , eta= 0.5\n",
      "sum_abs_res =  5338.53757755 for batchsize= 14913 norm(beta):  14.1593623686\n",
      "no. wrong pred =  4993 , log(like)= -13406.227425\n",
      "********* took:  35.8120470047  sec. to complete\n",
      "\n",
      "******** batch no.  1 , eta= 0.353553390593\n",
      "sum_abs_res =  5404.53458701 for batchsize= 14888 norm(beta):  12.7700325482\n",
      "no. wrong pred =  4943 , log(like)= -11745.8054928\n",
      "********* took:  35.9446439743  sec. to complete\n",
      "\n",
      "******** batch no.  2 , eta= 0.288675134595\n",
      "sum_abs_res =  5368.3466309 for batchsize= 14894 norm(beta):  10.9733134079\n",
      "no. wrong pred =  4737 , log(like)= -10687.566586\n",
      "********* took:  36.525662899  sec. to complete\n",
      "\n",
      "******** batch no.  3 , eta= 0.25\n",
      "sum_abs_res =  5336.08067047 for batchsize= 14887 norm(beta):  10.3110347661\n",
      "no. wrong pred =  4643 , log(like)= -9979.49378364\n",
      "********* took:  36.3846812248  sec. to complete\n",
      "\n",
      "******** batch no.  4 , eta= 0.22360679775\n",
      "sum_abs_res =  5380.27762018 for batchsize= 15024 norm(beta):  9.60320056282\n",
      "no. wrong pred =  4625 , log(like)= -9773.41551637\n",
      "********* took:  36.4208381176  sec. to complete\n",
      "\n",
      "******** batch no.  5 , eta= 0.204124145232\n",
      "sum_abs_res =  5325.88463019 for batchsize= 14825 norm(beta):  8.95434297356\n",
      "no. wrong pred =  4554 , log(like)= -9407.62322501\n",
      "********* took:  36.067909956  sec. to complete\n",
      "\n",
      "******** batch no.  6 , eta= 0.188982236505\n",
      "sum_abs_res =  5330.62648883 for batchsize= 14856 norm(beta):  8.90672851219\n",
      "no. wrong pred =  4546 , log(like)= -9219.59361159\n",
      "********* took:  36.2757678032  sec. to complete\n",
      "\n",
      "******** batch no.  7 , eta= 0.176776695297\n",
      "sum_abs_res =  5344.73984896 for batchsize= 14921 norm(beta):  8.35664165147\n",
      "no. wrong pred =  4425 , log(like)= -9148.60220634\n",
      "********* took:  36.7417869568  sec. to complete\n",
      "\n",
      "******** batch no.  8 , eta= 0.166666666667\n",
      "sum_abs_res =  5416.20839646 for batchsize= 15018 norm(beta):  8.08492971985\n",
      "no. wrong pred =  4527 , log(like)= -9136.28525052\n",
      "********* took:  36.6131541729  sec. to complete\n",
      "\n",
      "******** batch no.  9 , eta= 0.158113883008\n",
      "sum_abs_res =  5431.90015564 for batchsize= 15130 norm(beta):  8.02560970472\n",
      "no. wrong pred =  4493 , log(like)= -9062.4437113\n",
      "********* took:  36.4152109623  sec. to complete\n",
      "\n",
      "******** batch no.  10 , eta= 0.150755672289\n",
      "sum_abs_res =  5371.55618811 for batchsize= 14955 norm(beta):  7.67822874995\n",
      "no. wrong pred =  4401 , log(like)= -8913.51127828\n",
      "********* took:  36.027777195  sec. to complete\n",
      "\n",
      "******** batch no.  11 , eta= 0.144337567297\n",
      "sum_abs_res =  5386.38246782 for batchsize= 15129 norm(beta):  7.79850872228\n",
      "no. wrong pred =  4373 , log(like)= -8851.18961309\n",
      "********* took:  36.1917278767  sec. to complete\n",
      "\n",
      "******** batch no.  12 , eta= 0.138675049056\n",
      "sum_abs_res =  5443.32344095 for batchsize= 14942 norm(beta):  7.44844360823\n",
      "no. wrong pred =  4428 , log(like)= -8918.36965656\n",
      "********* took:  36.5665140152  sec. to complete\n",
      "\n",
      "******** batch no.  13 , eta= 0.133630620956\n",
      "sum_abs_res =  5359.67755899 for batchsize= 14853 norm(beta):  7.36961701382\n",
      "no. wrong pred =  4386 , log(like)= -8732.25907508\n",
      "********* took:  36.1597349644  sec. to complete\n",
      "\n",
      "******** batch no.  14 , eta= 0.129099444874\n",
      "sum_abs_res =  5439.01615962 for batchsize= 15143 norm(beta):  7.19622162622\n",
      "no. wrong pred =  4415 , log(like)= -8822.93430688\n",
      "********* took:  36.7330348492  sec. to complete\n",
      "\n",
      "******** batch no.  15 , eta= 0.125\n",
      "sum_abs_res =  5439.96921583 for batchsize= 15031 norm(beta):  7.03079144139\n",
      "no. wrong pred =  4365 , log(like)= -8797.99966343\n",
      "********* took:  36.4838490486  sec. to complete\n",
      "\n",
      "******** batch no.  16 , eta= 0.121267812518\n",
      "sum_abs_res =  5331.30115899 for batchsize= 14890 norm(beta):  7.13087725777\n",
      "no. wrong pred =  4237 , log(like)= -8515.2381509\n",
      "********* took:  36.754224062  sec. to complete\n",
      "\n",
      "******** batch no.  17 , eta= 0.117851130198\n",
      "sum_abs_res =  5522.51508696 for batchsize= 15111 norm(beta):  6.827087167\n",
      "no. wrong pred =  4418 , log(like)= -8833.59950675\n",
      "********* took:  36.6420531273  sec. to complete\n",
      "\n",
      "******** batch no.  18 , eta= 0.114707866935\n",
      "sum_abs_res =  5466.4791626 for batchsize= 15151 norm(beta):  6.96812384342\n",
      "no. wrong pred =  4361 , log(like)= -8681.19708272\n",
      "********* took:  36.3720290661  sec. to complete\n",
      "\n",
      "******** batch no.  19 , eta= 0.111803398875\n",
      "sum_abs_res =  5403.86282857 for batchsize= 14994 norm(beta):  6.84247194433\n",
      "no. wrong pred =  4312 , log(like)= -8546.4889199\n",
      "********* took:  36.3120028973  sec. to complete\n",
      "\n",
      "******** batch no.  20 , eta= 0.109108945118\n",
      "sum_abs_res =  5396.34736256 for batchsize= 15006 norm(beta):  6.84835927408\n",
      "no. wrong pred =  4276 , log(like)= -8527.80978933\n",
      "********* took:  36.2863550186  sec. to complete\n",
      "\n",
      "******** batch no.  21 , eta= 0.106600358178\n",
      "sum_abs_res =  5411.14699897 for batchsize= 15137 norm(beta):  6.67843022514\n",
      "no. wrong pred =  4257 , log(like)= -8478.71730846\n",
      "********* took:  36.0941910744  sec. to complete\n",
      "\n",
      "******** batch no.  22 , eta= 0.104257207029\n",
      "sum_abs_res =  5521.29225871 for batchsize= 15039 norm(beta):  6.75179777918\n",
      "no. wrong pred =  4341 , log(like)= -8738.3011682\n",
      "********* took:  36.2448840141  sec. to complete\n",
      "\n",
      "******** batch no.  23 , eta= 0.102062072616\n",
      "sum_abs_res =  5482.28034645 for batchsize= 15167 norm(beta):  6.49050158354\n",
      "no. wrong pred =  4281 , log(like)= -8578.13055251\n",
      "********* took:  36.6605780125  sec. to complete\n",
      "\n",
      "******** batch no.  24 , eta= 0.1\n",
      "sum_abs_res =  5371.65149647 for batchsize= 14937 norm(beta):  6.61584869371\n",
      "no. wrong pred =  4168 , log(like)= -8387.82467836\n",
      "********* took:  36.5476140976  sec. to complete\n",
      "\n",
      "******** batch no.  25 , eta= 0.0980580675691\n",
      "sum_abs_res =  5345.08955962 for batchsize= 14843 norm(beta):  6.58048577191\n",
      "no. wrong pred =  4154 , log(like)= -8301.79535192\n",
      "********* took:  36.165941  sec. to complete\n",
      "\n",
      "******** batch no.  26 , eta= 0.0962250448649\n",
      "sum_abs_res =  5489.04604671 for batchsize= 14939 norm(beta):  6.45588611076\n",
      "no. wrong pred =  4333 , log(like)= -8561.824548\n",
      "********* took:  36.3004479408  sec. to complete\n",
      "\n",
      "******** batch no.  27 , eta= 0.0944911182523\n",
      "sum_abs_res =  5424.60929421 for batchsize= 14956 norm(beta):  6.42739625318\n",
      "no. wrong pred =  4253 , log(like)= -8421.36712177\n",
      "********* took:  36.2649381161  sec. to complete\n",
      "\n",
      "******** batch no.  28 , eta= 0.0928476690885\n",
      "sum_abs_res =  5451.15954588 for batchsize= 15233 norm(beta):  6.39517661381\n",
      "no. wrong pred =  4217 , log(like)= -8429.38407988\n",
      "********* took:  36.5406880379  sec. to complete\n",
      "\n",
      "******** batch no.  29 , eta= 0.0912870929175\n",
      "sum_abs_res =  5468.91696807 for batchsize= 15101 norm(beta):  6.21946117407\n",
      "no. wrong pred =  4239 , log(like)= -8474.6109248\n",
      "********* took:  36.6699171066  sec. to complete\n",
      "\n",
      "******** batch no.  30 , eta= 0.0898026510134\n",
      "sum_abs_res =  5400.30422935 for batchsize= 14890 norm(beta):  6.32780702747\n",
      "no. wrong pred =  4190 , log(like)= -8327.40477562\n",
      "********* took:  35.9673058987  sec. to complete\n",
      "\n",
      "******** batch no.  31 , eta= 0.0883883476483\n",
      "sum_abs_res =  5431.465647 for batchsize= 15174 norm(beta):  6.24140700067\n",
      "no. wrong pred =  4143 , log(like)= -8366.82900959\n",
      "********* took:  36.1994409561  sec. to complete\n",
      "\n",
      "******** batch no.  32 , eta= 0.0870388279778\n",
      "sum_abs_res =  5414.31836852 for batchsize= 14920 norm(beta):  6.0700959014\n",
      "no. wrong pred =  4189 , log(like)= -8354.17153956\n",
      "********* took:  36.6834731102  sec. to complete\n",
      "\n",
      "******** batch no.  33 , eta= 0.0857492925713\n",
      "sum_abs_res =  5386.02381968 for batchsize= 14828 norm(beta):  6.15096955299\n",
      "no. wrong pred =  4149 , log(like)= -8275.19387674\n",
      "********* took:  36.1718370914  sec. to complete\n",
      "\n",
      "******** batch no.  34 , eta= 0.0845154254729\n",
      "sum_abs_res =  5472.28239712 for batchsize= 14994 norm(beta):  6.03145865909\n",
      "no. wrong pred =  4237 , log(like)= -8416.92100105\n",
      "********* took:  36.80479002  sec. to complete\n",
      "\n",
      "******** batch no.  35 , eta= 0.0833333333333\n",
      "sum_abs_res =  5446.98309701 for batchsize= 15083 norm(beta):  6.1353679846\n",
      "no. wrong pred =  4169 , log(like)= -8338.16238806\n",
      "********* took:  36.5469279289  sec. to complete\n",
      "\n",
      "******** batch no.  36 , eta= 0.0821994936527\n",
      "sum_abs_res =  5466.6399126 for batchsize= 15073 norm(beta):  6.15252487756\n",
      "no. wrong pred =  4220 , log(like)= -8354.12712439\n",
      "********* took:  36.3817529678  sec. to complete\n",
      "\n",
      "******** batch no.  37 , eta= 0.0811107105654\n",
      "sum_abs_res =  5398.43535166 for batchsize= 15033 norm(beta):  6.04562186328\n",
      "no. wrong pred =  4118 , log(like)= -8212.27808908\n",
      "********* took:  36.1885199547  sec. to complete\n",
      "\n",
      "******** batch no.  38 , eta= 0.0800640769025\n",
      "sum_abs_res =  5477.94299482 for batchsize= 15073 norm(beta):  6.03515463038\n",
      "no. wrong pred =  4205 , log(like)= -8349.05592315\n",
      "********* took:  36.0729730129  sec. to complete\n",
      "\n",
      "******** batch no.  39 , eta= 0.0790569415042\n",
      "sum_abs_res =  5446.10211964 for batchsize= 15018 norm(beta):  5.92748098073\n",
      "no. wrong pred =  4205 , log(like)= -8282.20049405\n",
      "********* took:  36.5637578964  sec. to complete\n",
      "\n",
      "******** batch no.  40 , eta= 0.0780868809443\n",
      "sum_abs_res =  5424.75611077 for batchsize= 15143 norm(beta):  5.85322606006\n",
      "no. wrong pred =  4134 , log(like)= -8269.52213347\n",
      "********* took:  36.9259269238  sec. to complete\n",
      "\n",
      "******** batch no.  41 , eta= 0.077151674981\n",
      "sum_abs_res =  5365.02058581 for batchsize= 14855 norm(beta):  5.83948032917\n",
      "no. wrong pred =  4085 , log(like)= -8163.97946961\n",
      "********* took:  35.9607141018  sec. to complete\n",
      "\n",
      "******** batch no.  42 , eta= 0.0762492851663\n",
      "sum_abs_res =  5462.65608472 for batchsize= 15018 norm(beta):  5.81489312915\n",
      "no. wrong pred =  4208 , log(like)= -8336.97052992\n",
      "********* took:  36.1535389423  sec. to complete\n",
      "\n",
      "******** batch no.  43 , eta= 0.0753778361444\n",
      "sum_abs_res =  5485.48820545 for batchsize= 15158 norm(beta):  5.79582856654\n",
      "no. wrong pred =  4191 , log(like)= -8343.91818429\n",
      "********* took:  36.6008350849  sec. to complete\n",
      "\n",
      "******** batch no.  44 , eta= 0.07453559925\n",
      "sum_abs_res =  5477.29242217 for batchsize= 15138 norm(beta):  5.94442361884\n",
      "no. wrong pred =  4216 , log(like)= -8296.8784536\n",
      "********* took:  36.4530060291  sec. to complete\n",
      "\n",
      "******** batch no.  45 , eta= 0.0737209780774\n",
      "sum_abs_res =  5469.74326248 for batchsize= 14974 norm(beta):  5.73392463237\n",
      "no. wrong pred =  4164 , log(like)= -8263.02616269\n",
      "********* took:  36.4312279224  sec. to complete\n",
      "\n",
      "******** batch no.  46 , eta= 0.0729324957489\n",
      "sum_abs_res =  5312.30276982 for batchsize= 14729 norm(beta):  5.80906691503\n",
      "no. wrong pred =  3966 , log(like)= -8037.43959817\n",
      "********* took:  35.9652628899  sec. to complete\n",
      "\n",
      "******** batch no.  47 , eta= 0.0721687836487\n",
      "sum_abs_res =  5403.18914938 for batchsize= 15053 norm(beta):  5.94167218325\n",
      "no. wrong pred =  4074 , log(like)= -8153.25833173\n",
      "********* took:  36.694756031  sec. to complete\n",
      "\n",
      "******** batch no.  48 , eta= 0.0714285714286\n",
      "sum_abs_res =  5438.68569474 for batchsize= 15027 norm(beta):  5.84203645515\n",
      "no. wrong pred =  4116 , log(like)= -8218.06168145\n",
      "********* took:  36.5477340221  sec. to complete\n",
      "\n",
      "******** batch no.  49 , eta= 0.0707106781187\n",
      "sum_abs_res =  5437.56664542 for batchsize= 15066 norm(beta):  5.71014374113\n",
      "no. wrong pred =  4140 , log(like)= -8206.25825471\n",
      "********* took:  36.6043140888  sec. to complete\n",
      "\n",
      "******** batch no.  50 , eta= 0.0700140042014\n",
      "sum_abs_res =  5464.41612264 for batchsize= 14968 norm(beta):  5.78445019262\n",
      "no. wrong pred =  4156 , log(like)= -8264.44288292\n",
      "********* took:  36.0861020088  sec. to complete\n",
      "\n",
      "******** batch no.  51 , eta= 0.0693375245282\n",
      "sum_abs_res =  5366.11287968 for batchsize= 14840 norm(beta):  5.54595499658\n",
      "no. wrong pred =  4046 , log(like)= -8098.77704554\n",
      "********* took:  36.2503559589  sec. to complete\n",
      "\n",
      "******** batch no.  52 , eta= 0.0686802819743\n",
      "sum_abs_res =  5352.63202382 for batchsize= 14751 norm(beta):  5.62793739788\n",
      "no. wrong pred =  4070 , log(like)= -8044.78745751\n",
      "********* took:  36.4402940273  sec. to complete\n",
      "\n",
      "******** batch no.  53 , eta= 0.068041381744\n",
      "sum_abs_res =  5536.96698408 for batchsize= 15114 norm(beta):  5.86323478281\n",
      "no. wrong pred =  4186 , log(like)= -8322.61225602\n",
      "********* took:  36.5077960491  sec. to complete\n",
      "\n",
      "******** batch no.  54 , eta= 0.0674199862463\n",
      "sum_abs_res =  5477.99087207 for batchsize= 15161 norm(beta):  5.71793085783\n",
      "no. wrong pred =  4165 , log(like)= -8193.51962981\n",
      "********* took:  36.8166880608  sec. to complete\n",
      "\n",
      "******** batch no.  55 , eta= 0.0668153104781\n",
      "sum_abs_res =  5468.69490729 for batchsize= 14861 norm(beta):  5.51590802429\n",
      "no. wrong pred =  4112 , log(like)= -8216.38445934\n",
      "********* took:  36.2257962227  sec. to complete\n",
      "\n",
      "******** batch no.  56 , eta= 0.0662266178533\n",
      "sum_abs_res =  5571.24352375 for batchsize= 15196 norm(beta):  5.65319882396\n",
      "no. wrong pred =  4198 , log(like)= -8377.29587113\n",
      "********* took:  36.816311121  sec. to complete\n",
      "\n",
      "******** batch no.  57 , eta= 0.0656532164299\n",
      "sum_abs_res =  5430.75489026 for batchsize= 15007 norm(beta):  5.64504673346\n",
      "no. wrong pred =  4075 , log(like)= -8130.14955414\n",
      "********* took:  36.4395420551  sec. to complete\n",
      "\n",
      "******** batch no.  58 , eta= 0.0650944554904\n",
      "sum_abs_res =  5444.56061956 for batchsize= 14956 norm(beta):  5.58971298542\n",
      "no. wrong pred =  4135 , log(like)= -8158.84269178\n",
      "********* took:  36.0433619022  sec. to complete\n",
      "\n",
      "******** batch no.  59 , eta= 0.0645497224368\n",
      "sum_abs_res =  5361.31816742 for batchsize= 14692 norm(beta):  5.59820267734\n",
      "no. wrong pred =  4069 , log(like)= -8040.83532485\n",
      "********* took:  36.4478709698  sec. to complete\n",
      "\n",
      "******** batch no.  60 , eta= 0.0640184399664\n",
      "sum_abs_res =  5508.48358212 for batchsize= 15179 norm(beta):  5.63516178476\n",
      "no. wrong pred =  4078 , log(like)= -8255.99150605\n",
      "********* took:  37.6639909744  sec. to complete\n",
      "\n",
      "******** batch no.  61 , eta= 0.0635000635001\n",
      "sum_abs_res =  5554.23958967 for batchsize= 15182 norm(beta):  5.55562143584\n",
      "no. wrong pred =  4110 , log(like)= -8314.32790989\n",
      "********* took:  36.5033459663  sec. to complete\n",
      "\n",
      "******** batch no.  62 , eta= 0.0629940788349\n",
      "sum_abs_res =  5410.85835569 for batchsize= 14963 norm(beta):  5.54165594196\n",
      "no. wrong pred =  4043 , log(like)= -8083.8032721\n",
      "********* took:  36.2514081001  sec. to complete\n",
      "\n",
      "******** batch no.  63 , eta= 0.0625\n",
      "sum_abs_res =  5412.39389541 for batchsize= 14939 norm(beta):  5.51406704182\n",
      "no. wrong pred =  4004 , log(like)= -8088.13192455\n",
      "********* took:  36.485640049  sec. to complete\n",
      "\n",
      "******** batch no.  64 , eta= 0.0620173672946\n",
      "sum_abs_res =  5485.26389447 for batchsize= 14898 norm(beta):  5.4921604137\n",
      "no. wrong pred =  4145 , log(like)= -8205.68361531\n",
      "********* took:  36.07665205  sec. to complete\n",
      "\n",
      "******** batch no.  65 , eta= 0.0615457454897\n",
      "sum_abs_res =  5402.97116549 for batchsize= 14981 norm(beta):  5.63483910956\n",
      "no. wrong pred =  3975 , log(like)= -8024.66006942\n",
      "********* took:  36.9910161495  sec. to complete\n",
      "\n",
      "******** batch no.  66 , eta= 0.0610847221782\n",
      "sum_abs_res =  5485.08812438 for batchsize= 15215 norm(beta):  5.45852098556\n",
      "no. wrong pred =  4040 , log(like)= -8182.54104433\n",
      "********* took:  36.6193327904  sec. to complete\n",
      "\n",
      "******** batch no.  67 , eta= 0.0606339062591\n",
      "sum_abs_res =  5427.36504003 for batchsize= 14957 norm(beta):  5.41601550358\n",
      "no. wrong pred =  4010 , log(like)= -8098.1989217\n",
      "********* took:  36.2383658886  sec. to complete\n",
      "\n",
      "******** batch no.  68 , eta= 0.0601929265429\n",
      "sum_abs_res =  5395.45607674 for batchsize= 14869 norm(beta):  5.43603948266\n",
      "no. wrong pred =  3973 , log(like)= -8063.45210169\n",
      "********* took:  36.131196022  sec. to complete\n",
      "\n",
      "******** batch no.  69 , eta= 0.0597614304667\n",
      "sum_abs_res =  5478.13851684 for batchsize= 14983 norm(beta):  5.40106936346\n",
      "no. wrong pred =  4092 , log(like)= -8161.85702487\n",
      "********* took:  36.3022289276  sec. to complete\n",
      "\n",
      "******** batch no.  70 , eta= 0.0593390829097\n",
      "sum_abs_res =  5513.92396112 for batchsize= 14946 norm(beta):  5.49121198719\n",
      "no. wrong pred =  4173 , log(like)= -8235.53713561\n",
      "********* took:  36.3975110054  sec. to complete\n",
      "\n",
      "******** batch no.  71 , eta= 0.0589255650989\n",
      "sum_abs_res =  5453.2855226 for batchsize= 15105 norm(beta):  5.42746354809\n",
      "no. wrong pred =  4039 , log(like)= -8122.9771976\n",
      "********* took:  36.9646611214  sec. to complete\n",
      "\n",
      "******** batch no.  72 , eta= 0.0585205735981\n",
      "sum_abs_res =  5515.40688159 for batchsize= 15056 norm(beta):  5.41012938389\n",
      "no. wrong pred =  4082 , log(like)= -8199.66301973\n",
      "********* took:  36.2252640724  sec. to complete\n",
      "\n",
      "******** batch no.  73 , eta= 0.0581238193719\n",
      "sum_abs_res =  5533.78479251 for batchsize= 15141 norm(beta):  5.24269010033\n",
      "no. wrong pred =  4164 , log(like)= -8243.59744603\n",
      "********* took:  36.3988959789  sec. to complete\n",
      "\n",
      "******** batch no.  74 , eta= 0.057735026919\n",
      "sum_abs_res =  5365.74243987 for batchsize= 14687 norm(beta):  5.42153854332\n",
      "no. wrong pred =  3969 , log(like)= -7983.24942333\n",
      "********* took:  36.0647728443  sec. to complete\n",
      "\n",
      "******** batch no.  75 , eta= 0.0573539334676\n",
      "sum_abs_res =  5475.64661369 for batchsize= 15057 norm(beta):  5.44025906727\n",
      "no. wrong pred =  4076 , log(like)= -8182.78093167\n",
      "********* took:  36.3920869827  sec. to complete\n",
      "\n",
      "******** batch no.  76 , eta= 0.0569802882298\n",
      "sum_abs_res =  5479.46420311 for batchsize= 15040 norm(beta):  5.27686283381\n",
      "no. wrong pred =  4095 , log(like)= -8157.50139495\n",
      "********* took:  36.4259369373  sec. to complete\n",
      "\n",
      "******** batch no.  77 , eta= 0.0566138517072\n",
      "sum_abs_res =  5411.91743113 for batchsize= 14920 norm(beta):  5.28700619\n",
      "no. wrong pred =  3982 , log(like)= -8051.38475766\n",
      "********* took:  36.3974368572  sec. to complete\n",
      "\n",
      "******** batch no.  78 , eta= 0.0562543950463\n",
      "sum_abs_res =  5533.28552215 for batchsize= 14996 norm(beta):  5.35638449039\n",
      "no. wrong pred =  4095 , log(like)= -8246.45033945\n",
      "********* took:  36.5411980152  sec. to complete\n",
      "\n",
      "******** batch no.  79 , eta= 0.0559016994375\n",
      "sum_abs_res =  5498.46977545 for batchsize= 15047 norm(beta):  5.21499049049\n",
      "no. wrong pred =  4071 , log(like)= -8166.93311724\n",
      "********* took:  36.2999711037  sec. to complete\n",
      "\n",
      "******** batch no.  80 , eta= 0.0555555555556\n",
      "sum_abs_res =  5489.84331094 for batchsize= 14984 norm(beta):  5.30852585349\n",
      "no. wrong pred =  4116 , log(like)= -8136.06430024\n",
      "********* took:  36.7257969379  sec. to complete\n",
      "\n",
      "******** batch no.  81 , eta= 0.0552157630374\n",
      "sum_abs_res =  5498.8174719 for batchsize= 15087 norm(beta):  5.20085039102\n",
      "no. wrong pred =  4076 , log(like)= -8169.472502\n",
      "********* took:  36.5132229328  sec. to complete\n",
      "\n",
      "******** batch no.  82 , eta= 0.0548821299948\n",
      "sum_abs_res =  5505.70836865 for batchsize= 14978 norm(beta):  5.28531259472\n",
      "no. wrong pred =  4083 , log(like)= -8152.0270943\n",
      "********* took:  36.6290268898  sec. to complete\n",
      "\n",
      "******** batch no.  83 , eta= 0.054554472559\n",
      "sum_abs_res =  5474.49410861 for batchsize= 15041 norm(beta):  5.29900975725\n",
      "no. wrong pred =  4069 , log(like)= -8119.27358603\n",
      "********* took:  36.372759819  sec. to complete\n",
      "\n",
      "******** batch no.  84 , eta= 0.0542326144547\n",
      "sum_abs_res =  5420.24308697 for batchsize= 14809 norm(beta):  5.35831827762\n",
      "no. wrong pred =  4010 , log(like)= -8029.06316044\n",
      "********* took:  36.3057968616  sec. to complete\n",
      "\n",
      "******** batch no.  85 , eta= 0.0539163866017\n",
      "sum_abs_res =  5528.02575863 for batchsize= 15208 norm(beta):  5.29469401556\n",
      "no. wrong pred =  4043 , log(like)= -8178.97285229\n",
      "********* took:  36.3041288853  sec. to complete\n",
      "\n",
      "******** batch no.  86 , eta= 0.0536056267419\n",
      "sum_abs_res =  5495.86860901 for batchsize= 14961 norm(beta):  5.31883683879\n",
      "no. wrong pred =  4056 , log(like)= -8143.1599279\n",
      "********* took:  36.4305841923  sec. to complete\n",
      "\n",
      "******** batch no.  87 , eta= 0.0533001790889\n",
      "sum_abs_res =  5514.35514567 for batchsize= 15053 norm(beta):  5.15928128717\n",
      "no. wrong pred =  4044 , log(like)= -8191.27422824\n",
      "********* took:  36.5571410656  sec. to complete\n",
      "\n",
      "******** batch no.  88 , eta= 0.0529998940003\n",
      "sum_abs_res =  5455.52918058 for batchsize= 14975 norm(beta):  5.19265627384\n",
      "no. wrong pred =  4063 , log(like)= -8074.44345154\n",
      "********* took:  36.5523269176  sec. to complete\n",
      "\n",
      "******** batch no.  89 , eta= 0.0527046276695\n",
      "sum_abs_res =  5439.16568709 for batchsize= 14916 norm(beta):  5.05474406519\n",
      "no. wrong pred =  3993 , log(like)= -8070.79456893\n",
      "********* took:  36.6058869362  sec. to complete\n",
      "\n",
      "******** batch no.  90 , eta= 0.0524142418361\n",
      "sum_abs_res =  5579.14094273 for batchsize= 15146 norm(beta):  5.08640709886\n",
      "no. wrong pred =  4184 , log(like)= -8282.20130232\n",
      "********* took:  36.6953949928  sec. to complete\n",
      "\n",
      "******** batch no.  91 , eta= 0.0521286035143\n",
      "sum_abs_res =  5501.09428155 for batchsize= 14955 norm(beta):  5.1425435148\n",
      "no. wrong pred =  4140 , log(like)= -8111.7913849\n",
      "********* took:  36.8602671623  sec. to complete\n",
      "\n",
      "******** batch no.  92 , eta= 0.0518475847365\n",
      "sum_abs_res =  5378.74610788 for batchsize= 14796 norm(beta):  5.1929984486\n",
      "no. wrong pred =  4018 , log(like)= -7931.13906067\n",
      "********* took:  36.7184269428  sec. to complete\n",
      "\n",
      "******** batch no.  93 , eta= 0.0515710623129\n",
      "sum_abs_res =  5471.30630273 for batchsize= 15023 norm(beta):  5.2646124708\n",
      "no. wrong pred =  4029 , log(like)= -8072.56592332\n",
      "********* took:  36.321103096  sec. to complete\n",
      "\n",
      "******** batch no.  94 , eta= 0.0512989176043\n",
      "sum_abs_res =  5548.61655688 for batchsize= 15206 norm(beta):  5.11276398182\n",
      "no. wrong pred =  4096 , log(like)= -8189.95015937\n",
      "********* took:  37.1895771027  sec. to complete\n",
      "\n",
      "******** batch no.  95 , eta= 0.051031036308\n",
      "sum_abs_res =  5498.31756936 for batchsize= 15087 norm(beta):  5.11058110271\n",
      "no. wrong pred =  4045 , log(like)= -8123.57798053\n",
      "********* took:  37.1999049187  sec. to complete\n",
      "\n",
      "******** batch no.  96 , eta= 0.0507673082567\n",
      "sum_abs_res =  5538.10312818 for batchsize= 15119 norm(beta):  5.21654420536\n",
      "no. wrong pred =  4105 , log(like)= -8171.54721837\n",
      "********* took:  36.6187689304  sec. to complete\n",
      "\n",
      "******** batch no.  97 , eta= 0.0505076272276\n",
      "sum_abs_res =  5519.28395792 for batchsize= 15023 norm(beta):  5.15778896267\n",
      "no. wrong pred =  4090 , log(like)= -8135.24274123\n",
      "********* took:  36.4810159206  sec. to complete\n",
      "\n",
      "******** batch no.  98 , eta= 0.050251890763\n",
      "sum_abs_res =  5438.13309412 for batchsize= 15021 norm(beta):  5.19864441325\n",
      "no. wrong pred =  3968 , log(like)= -8017.21089953\n",
      "********* took:  36.2465691566  sec. to complete\n",
      "\n",
      "******** batch no.  99 , eta= 0.05\n",
      "sum_abs_res =  5488.53932625 for batchsize= 15071 norm(beta):  5.00380424357\n",
      "no. wrong pred =  4046 , log(like)= -8093.68794823\n",
      "********* took:  36.6461038589  sec. to complete\n",
      "\n",
      "******** batch no.  100 , eta= 0.0497518595105\n",
      "sum_abs_res =  5486.8932518 for batchsize= 14923 norm(beta):  5.1329077896\n",
      "no. wrong pred =  4047 , log(like)= -8102.96941323\n",
      "********* took:  36.3235881329  sec. to complete\n",
      "\n",
      "******** batch no.  101 , eta= 0.0495073771488\n",
      "sum_abs_res =  5505.4235117 for batchsize= 15062 norm(beta):  5.12050359031\n",
      "no. wrong pred =  4021 , log(like)= -8105.4453175\n",
      "********* took:  36.4587199688  sec. to complete\n",
      "\n",
      "******** batch no.  102 , eta= 0.0492664639082\n",
      "sum_abs_res =  5445.38108338 for batchsize= 14940 norm(beta):  5.12499883246\n",
      "no. wrong pred =  4008 , log(like)= -8014.29675585\n",
      "********* took:  36.3648681641  sec. to complete\n",
      "\n",
      "******** batch no.  103 , eta= 0.0490290337845\n",
      "sum_abs_res =  5400.15312445 for batchsize= 14924 norm(beta):  5.15795950981\n",
      "no. wrong pred =  3963 , log(like)= -7949.16512511\n",
      "********* took:  36.1786060333  sec. to complete\n",
      "\n",
      "******** batch no.  104 , eta= 0.0487950036474\n",
      "sum_abs_res =  5481.69395466 for batchsize= 15053 norm(beta):  5.12737915723\n",
      "no. wrong pred =  4079 , log(like)= -8051.4608588\n",
      "********* took:  36.5654189587  sec. to complete\n",
      "\n",
      "******** batch no.  105 , eta= 0.0485642931179\n",
      "sum_abs_res =  5404.99615594 for batchsize= 14887 norm(beta):  5.17329457851\n",
      "no. wrong pred =  3923 , log(like)= -7926.19626726\n",
      "********* took:  36.6580870152  sec. to complete\n",
      "\n",
      "******** batch no.  106 , eta= 0.0483368244523\n",
      "sum_abs_res =  5516.41697965 for batchsize= 15154 norm(beta):  5.01627232413\n",
      "no. wrong pred =  3997 , log(like)= -8131.55992639\n",
      "********* took:  36.627022028  sec. to complete\n",
      "\n",
      "******** batch no.  107 , eta= 0.0481125224325\n",
      "sum_abs_res =  5348.93392582 for batchsize= 14818 norm(beta):  5.10656673995\n",
      "no. wrong pred =  3894 , log(like)= -7884.00070178\n",
      "********* took:  36.9280011654  sec. to complete\n",
      "\n",
      "******** batch no.  108 , eta= 0.0478913142611\n",
      "sum_abs_res =  5520.49240722 for batchsize= 15127 norm(beta):  5.09872382597\n",
      "no. wrong pred =  4074 , log(like)= -8113.05188969\n",
      "********* took:  37.2679400444  sec. to complete\n",
      "\n",
      "******** batch no.  109 , eta= 0.0476731294623\n",
      "sum_abs_res =  5476.81056555 for batchsize= 15025 norm(beta):  5.14332016336\n",
      "no. wrong pred =  3986 , log(like)= -8044.5142442\n",
      "********* took:  36.2563779354  sec. to complete\n",
      "\n",
      "******** batch no.  110 , eta= 0.0474578997876\n",
      "sum_abs_res =  5442.00143612 for batchsize= 14931 norm(beta):  4.99377786722\n",
      "no. wrong pred =  4064 , log(like)= -8015.19575391\n",
      "********* took:  36.8527710438  sec. to complete\n",
      "\n",
      "******** batch no.  111 , eta= 0.0472455591262\n",
      "sum_abs_res =  5425.44711692 for batchsize= 15016 norm(beta):  5.1253329988\n",
      "no. wrong pred =  3938 , log(like)= -7972.02171364\n",
      "********* took:  36.8394880295  sec. to complete\n",
      "\n",
      "******** batch no.  112 , eta= 0.0470360434192\n",
      "sum_abs_res =  5576.89818216 for batchsize= 15223 norm(beta):  5.04052979243\n",
      "no. wrong pred =  4037 , log(like)= -8200.24226866\n",
      "********* took:  36.4022369385  sec. to complete\n",
      "\n",
      "******** batch no.  113 , eta= 0.0468292905791\n",
      "sum_abs_res =  5435.57582954 for batchsize= 14876 norm(beta):  4.97891405587\n",
      "no. wrong pred =  3950 , log(like)= -8004.19547924\n",
      "********* took:  36.6994638443  sec. to complete\n",
      "\n",
      "******** batch no.  114 , eta= 0.046625240412\n",
      "sum_abs_res =  5414.76402497 for batchsize= 14830 norm(beta):  5.03764330465\n",
      "no. wrong pred =  3942 , log(like)= -7960.0547368\n",
      "********* took:  36.6548380852  sec. to complete\n"
     ]
    }
   ],
   "source": [
    "eta0=0.5\n",
    "batch_start=1\n",
    "batch_end=numbatches\n",
    "error_rate, residuals, log_like, beta_fit = eval_all(beta0,eta0,lam,df_sparse_sample[batch_start:batch_end])"
   ]
  },
  {
   "cell_type": "code",
   "execution_count": 19,
   "metadata": {
    "collapsed": false
   },
   "outputs": [
    {
     "name": "stdout",
     "output_type": "stream",
     "text": [
      "[0.334808556293167, 0.3320123589468028, 0.3180475359205049, 0.31188285080943107, 0.3078407880724175, 0.3071838111298482, 0.3060043080236941, 0.2965618926345419, 0.3014382740711147, 0.2969596827495043, 0.2942828485456369, 0.28904752462158767, 0.29634587070004015, 0.2952938800242375, 0.29155385326553523, 0.29039984032998467, 0.28455339153794496, 0.29236979683674147, 0.2878357864167382, 0.2875816993464052, 0.2849526855924297, 0.28123141970007265, 0.2886495112706962, 0.2822575328014769, 0.2790386289080806, 0.2798625614767904, 0.2900461878305107, 0.28436747793527684, 0.2768331910982735, 0.28070988676246605, 0.2813969106783076, 0.2730328192961645, 0.2807640750670241, 0.2798084704612894, 0.2825796985460851, 0.27640389842869456, 0.27997080873084323, 0.2739306858245194, 0.2789756518277715, 0.27999733652949793, 0.27299742455259857, 0.27499158532480644, 0.28019709681715277, 0.2764876632801161, 0.27850442594794556, 0.27808200881527984, 0.2692647158666576, 0.27064372550322197, 0.27390696745857457, 0.2747909199522103, 0.277659005879209, 0.27264150943396226, 0.2759134973900075, 0.2769617573111023, 0.27471802651540134, 0.2766973958683803, 0.27625690971308237, 0.27153994802425535, 0.27647766782562183, 0.2769534440511843, 0.26866064958165886, 0.2707153207746015, 0.2701998262380539, 0.2680232947319098, 0.2782252651362599, 0.265336092383686, 0.26552744002628986, 0.2681018920906599, 0.26720021521285897, 0.27310952412734435, 0.27920513849859496, 0.2673949023502152, 0.2711211477151966, 0.2750148603130573, 0.2702389868591271, 0.2707046556418941, 0.2722739361702128, 0.2668900804289544, 0.2730728194185116, 0.2705522695553931, 0.2746930058729311, 0.2701663683966329, 0.27259981305915343, 0.27052722558340536, 0.2707812816530488, 0.2658469226722778, 0.27110487266893923, 0.2686507672889125, 0.27131886477462436, 0.2676991150442478, 0.2762445530172983, 0.2768304914744233, 0.27155988104893214, 0.26818877720828066, 0.26936735499145076, 0.2681116192748724, 0.2715126661816258, 0.2722492178659389, 0.2641635044271353, 0.2684626103111937, 0.27119211954700795, 0.2669632186960563, 0.26827309236947794, 0.26554543017957655, 0.27097588520560684, 0.26351850607912947, 0.26375874356605516, 0.26278850047239843, 0.2693197593706617, 0.26529118136439267, 0.27218538610943677, 0.26225359616409166, 0.2651908296656375, 0.2655283678408174, 0.2658125421443021]\n",
      "0.00363443226128\n"
     ]
    }
   ],
   "source": [
    "#with eta0=0.1, c2=1 was at 3460 wrong after 20, at 3617 after 6\n",
    "#with eta0=0.01 was at 3432 wrong after 6 batches, 3410 wrong in 9 batches\n",
    "#with eta0=0.001 was at 3708 wrong in 6 batches\n",
    "#with eta0=0.0001 was at 4163 wrong in 21 batches\n",
    "print error_rate\n",
    "print np.std(error_rate[-5:-1])"
   ]
  },
  {
   "cell_type": "code",
   "execution_count": 20,
   "metadata": {
    "collapsed": false
   },
   "outputs": [
    {
     "data": {
      "text/plain": [
       "<matplotlib.text.Text at 0x7f55ac4a6bd0>"
      ]
     },
     "execution_count": 20,
     "metadata": {},
     "output_type": "execute_result"
    },
    {
     "data": {
      "image/png": "[encoded data removed]",
      "text/plain": [
       "<matplotlib.figure.Figure at 0x7f55ace4df50>"
      ]
     },
     "metadata": {},
     "output_type": "display_data"
    }
   ],
   "source": [
    "#plot training error as a fn of iteration\n",
    "plt.plot(np.arange(len(error_rate)),error_rate,'o-')\n",
    "plt.xlabel('batch no.')\n",
    "plt.ylabel('error')\n",
    "plt.title('training error')"
   ]
  },
  {
   "cell_type": "code",
   "execution_count": 21,
   "metadata": {
    "collapsed": false
   },
   "outputs": [
    {
     "data": {
      "text/plain": [
       "<matplotlib.text.Text at 0x7f55acb567d0>"
      ]
     },
     "execution_count": 21,
     "metadata": {},
     "output_type": "execute_result"
    },
    {
     "data": {
      "image/png": "[encoded data removed]",
      "text/plain": [
       "<matplotlib.figure.Figure at 0x7f55aa6e9950>"
      ]
     },
     "metadata": {},
     "output_type": "display_data"
    }
   ],
   "source": [
    "#plot negative log likelihood as a fn of iteration\n",
    "plt.plot(np.arange(batch_start,batch_end),-np.array(log_like),'o-')\n",
    "plt.xlabel('batch no.')\n",
    "plt.ylabel('-log likelihood')\n",
    "plt.title('training LL')"
   ]
  },
  {
   "cell_type": "code",
   "execution_count": 23,
   "metadata": {
    "collapsed": false
   },
   "outputs": [
    {
     "name": "stdout",
     "output_type": "stream",
     "text": [
      "trying lambda= 0.0001\n",
      "0.313081591369\n",
      "trying lambda= 0.001\n",
      "0.323668240054\n",
      "trying lambda= 0.01\n",
      "0.344504383007\n",
      "trying lambda= 0.1\n",
      "0.33809844909\n",
      "trying lambda= 1.0\n",
      "0.352933243425\n",
      "trying lambda= 10.0\n"
     ]
    },
    {
     "name": "stderr",
     "output_type": "stream",
     "text": [
      "/software/python-2.7-2015q2-el6-x86_64/lib/python2.7/site-packages/ipykernel/__main__.py:51: RuntimeWarning: divide by zero encountered in log\n",
      "/software/python-2.7-2015q2-el6-x86_64/lib/python2.7/site-packages/ipykernel/__main__.py:10: RuntimeWarning: overflow encountered in exp\n",
      "/software/python-2.7-2015q2-el6-x86_64/lib/python2.7/site-packages/ipykernel/__main__.py:49: RuntimeWarning: divide by zero encountered in log\n",
      "/software/python-2.7-2015q2-el6-x86_64/lib/python2.7/site-packages/ipykernel/__main__.py:16: RuntimeWarning: overflow encountered in multiply\n",
      "/software/python-2.7-2015q2-el6-x86_64/lib/python2.7/site-packages/ipykernel/__main__.py:16: RuntimeWarning: invalid value encountered in add\n"
     ]
    },
    {
     "name": "stdout",
     "output_type": "stream",
     "text": [
      "0.98226567768\n",
      "trying lambda= 100.0\n",
      "0.993391773432\n"
     ]
    }
   ],
   "source": [
    "#get error rate on a new mini-batch for different lamdas\n",
    "lamlist=10.0**np.array(np.arange(-4,3,1))\n",
    "\n",
    "lam_err_rate = []\n",
    "for lam in lamlist:\n",
    "    print \"trying lambda=\", lam\n",
    "    lam_beta_fit, lam_res, lam_err, loglike = eval_one_batch(beta_fit,eta0,lam,df_sparse_sample[batch_end-1])\n",
    "    #print lam_err, lam_res, lam_beta_fit\n",
    "    this_err_rate = float(sum(lam_err))/float(len(lam_res))\n",
    "    lam_err_rate.append(this_err_rate)\n",
    "    print this_err_rate"
   ]
  },
  {
   "cell_type": "code",
   "execution_count": 24,
   "metadata": {
    "collapsed": false
   },
   "outputs": [
    {
     "data": {
      "text/plain": [
       "<matplotlib.text.Text at 0x7f55acdc51d0>"
      ]
     },
     "execution_count": 24,
     "metadata": {},
     "output_type": "execute_result"
    },
    {
     "data": {
      "image/png": "[encoded data removed]",
      "text/plain": [
       "<matplotlib.figure.Figure at 0x7f55acb54150>"
      ]
     },
     "metadata": {},
     "output_type": "display_data"
    }
   ],
   "source": [
    "#plot validation error as a fn of lambdas\n",
    "plt.semilogx(lamlist,lam_err_rate,'o-')\n",
    "plt.xlabel(r'$\\lambda$')\n",
    "plt.ylabel('error')\n",
    "plt.title('validation error')"
   ]
  },
  {
   "cell_type": "code",
   "execution_count": 20,
   "metadata": {
    "collapsed": false
   },
   "outputs": [
    {
     "name": "stdout",
     "output_type": "stream",
     "text": [
      "30009\n"
     ]
    }
   ],
   "source": [
    "print len(beta_fit[0])\n",
    "#print beta_fit.transpose()"
   ]
  },
  {
   "cell_type": "code",
   "execution_count": 25,
   "metadata": {
    "collapsed": true
   },
   "outputs": [],
   "source": [
    "#compute test error for last set of betas on entire testing set\n",
    "#represent review as a sparse feature vector\n",
    "df_test_sparse_vec = test.map(lambda x: (x['review'],x['overall'])).\\\n",
    "                            map(lambda x: (mapToMasterKeys(cleanString(x[0]),vocab),binaryScore(x[1]))).\\\n",
    "                            map(lambda x: validate(beta_fit,x)).cache()"
   ]
  },
  {
   "cell_type": "code",
   "execution_count": 26,
   "metadata": {
    "collapsed": false
   },
   "outputs": [
    {
     "name": "stdout",
     "output_type": "stream",
     "text": [
      "size of test dataset: 373686\n",
      "test examples: (yerr, pi, y) \n",
      "[(0, 0.48512596387151008, 0), (0, 0.23690027700629815, 0), (0, 0.042145111892578691, 0), (0, 0.50512322139145804, 1), (0, 0.48344445149029225, 0)]\n"
     ]
    }
   ],
   "source": [
    "print 'size of test dataset:', df_test_sparse_vec.count()\n",
    "print 'test examples: (yerr, pi, y) '\n",
    "print df_test_sparse_vec.take(5)"
   ]
  },
  {
   "cell_type": "code",
   "execution_count": 45,
   "metadata": {
    "collapsed": false
   },
   "outputs": [],
   "source": [
    "test_error = df_test_sparse_vec.map(lambda x: x[0]).mean()"
   ]
  },
  {
   "cell_type": "code",
   "execution_count": 46,
   "metadata": {
    "collapsed": false
   },
   "outputs": [
    {
     "name": "stdout",
     "output_type": "stream",
     "text": [
      "0.332512599031\n"
     ]
    }
   ],
   "source": [
    "print test_error"
   ]
  },
  {
   "cell_type": "markdown",
   "metadata": {},
   "source": [
    "The text-based logistic regression method attains a traing error of about 27% and testing error of about 33%."
   ]
  },
  {
   "cell_type": "markdown",
   "metadata": {},
   "source": [
    "## Part 3: Scores vs text."
   ]
  },
  {
   "cell_type": "code",
   "execution_count": 44,
   "metadata": {
    "collapsed": true
   },
   "outputs": [],
   "source": [
    "#get mean and stdev for appearance, aroma, palate, style, taste\n",
    "names = ['appearance', 'aroma','palate','style','taste']\n",
    "means = dict([(i,0) for i in names])\n",
    "stdevs = dict([(i,0) for i in names])\n",
    "\n",
    "for name in names:\n",
    "    means[name] = raw_df.rdd.map(lambda x: x[name]).mean()\n",
    "    stdevs[name] = raw_df.rdd.map(lambda x: x[name]).stdev()\n",
    "    \n",
    "#normalize rdd\n",
    "def binaryScore(x):\n",
    "    if x>14:\n",
    "        x=1\n",
    "    else:\n",
    "        x=0\n",
    "    return x\n",
    "\n",
    "def normRatings(x, names, means, stdevs):\n",
    "    sort_names = sorted(names)\n",
    "    #x = np.array(x[0]) #the list is stored as ([list]), so need to get [0] entry to get list\n",
    "    #print x\n",
    "    x = np.array(x)\n",
    "    for i in np.arange(len(sort_names)):\n",
    "        myname = sort_names[i]\n",
    "        #print i,myname\n",
    "        x[i] = (float(x[i])-float(means[myname]))/float(stdevs[myname])\n",
    "    y = binaryScore(x[-1])\n",
    "    #x = np.delete(x,-1)\n",
    "    x[-1] = 1 # add intercept feature\n",
    "    return x,y"
   ]
  },
  {
   "cell_type": "code",
   "execution_count": 45,
   "metadata": {
    "collapsed": false
   },
   "outputs": [],
   "source": [
    "#normalize reviews\n",
    "norm_df = train.map(lambda x: (x['appearance'], x['aroma'], x['palate'],x['style'], x['taste'],x['overall'])).\\\n",
    "                    map(lambda x: normRatings(x,names,means,stdevs))\n"
   ]
  },
  {
   "cell_type": "code",
   "execution_count": 62,
   "metadata": {
    "collapsed": false
   },
   "outputs": [
    {
     "name": "stdout",
     "output_type": "stream",
     "text": [
      "[(array([ 0.6989573 , -0.21551798, -0.30980034, -0.94365614, -0.2781995 ,  1.        ]), 0)]\n"
     ]
    }
   ],
   "source": [
    "print norm_df.take(1)"
   ]
  },
  {
   "cell_type": "code",
   "execution_count": 63,
   "metadata": {
    "collapsed": false
   },
   "outputs": [
    {
     "name": "stdout",
     "output_type": "stream",
     "text": [
      "0.389436990417\n"
     ]
    }
   ],
   "source": [
    "print norm_df.map(lambda x: x[1]).mean()"
   ]
  },
  {
   "cell_type": "code",
   "execution_count": 46,
   "metadata": {
    "collapsed": false
   },
   "outputs": [],
   "source": [
    "#initialize model with betas=0\n",
    "beta_scores = np.zeros((1,len(names)+1)) #+1 for intercept\n",
    "\n",
    "#make batches out of training dataset\n",
    "numrev = train.count()\n",
    "batchsize = 300*50\n",
    "numbatches = int(float(numrev)/float(batchsize))"
   ]
  },
  {
   "cell_type": "code",
   "execution_count": 47,
   "metadata": {
    "collapsed": false
   },
   "outputs": [
    {
     "name": "stdout",
     "output_type": "stream",
     "text": [
      "[1 2 3]\n",
      "[1 2 5]\n"
     ]
    }
   ],
   "source": [
    "gopal = np.array([1,2,3])\n",
    "print gopal\n",
    "gopal[-1] = 5\n",
    "print gopal"
   ]
  },
  {
   "cell_type": "code",
   "execution_count": 48,
   "metadata": {
    "collapsed": true
   },
   "outputs": [],
   "source": [
    "weights = [1 for i in range(numbatches)]\n",
    "train_sample = norm_df.randomSplit(weights)"
   ]
  },
  {
   "cell_type": "code",
   "execution_count": 50,
   "metadata": {
    "collapsed": false
   },
   "outputs": [
    {
     "name": "stdout",
     "output_type": "stream",
     "text": [
      "[(array([-0.53160626, -0.21551798, -0.30980034, -0.94365614, -0.89437284,  1.        ]), 0)]\n",
      "[(array([-0.53160626,  0.3944758 , -0.30980034, -0.66257981, -0.2781995 ,  1.        ]), 0)]\n"
     ]
    }
   ],
   "source": [
    "# train_sample = []\n",
    "# for i in np.arange(numbatches):\n",
    "#     train_sample.append(norm_df.sample('False', float(batchsize)/float(numrev), seed=123))\n",
    "train_sample[1].count() #= 299 in first batch\n",
    "print train_sample[1].take(1)\n",
    "print train_sample[2].take(1)"
   ]
  },
  {
   "cell_type": "code",
   "execution_count": 58,
   "metadata": {
    "collapsed": true
   },
   "outputs": [],
   "source": [
    "#helper functions to run SGD\n",
    "import numpy as np\n",
    "\n",
    "def pi_log_scores(beta,x):\n",
    "    #logistic regression estimate of probability y=1/(1+exp(-beta*x)) and prediction of y (=yhat)\n",
    "    yhat = (x.dot(beta.transpose())) \n",
    "    #yhat = yhat[0][0] #dot product value is in [0][0] entry\n",
    "    #print \"yhat: \", yhat\n",
    "    pi = float(1.0)/(float(1.0)+np.exp(-yhat))\n",
    "    return pi, yhat\n",
    "\n",
    "def update_beta_scores(beta,eta,lam,x,y_min_pi):\n",
    "    #update betas according to gradient with learning rate (=eta) and regularization (=lam)\n",
    "    #pi, yhat = pi_log(beta,x) #pi=logistic regression estimate\n",
    "    return beta + eta*(x*(y_min_pi) - lam*beta)\n",
    "\n",
    "def validate_scores(beta,myrdd_row):\n",
    "    #test logistic prediction for one set of betas and one row of rdd\n",
    "    #return prediction error for that row\n",
    "    x=myrdd_row[0]\n",
    "    y=myrdd_row[1]\n",
    "    pi, yhat = pi_log_scores(beta,x)\n",
    "    \n",
    "    yerr = []\n",
    "    if (y==1 and pi >=0.5) or (y==0 and pi < 0.5): #got this right\n",
    "        yerr = 0\n",
    "    else:\n",
    "        yerr = 1\n",
    "    #print 'test yerr=', yerr\n",
    "    #print 'test pi=', pi\n",
    "    return yerr, pi, y\n",
    "\n",
    "def eval_one_batch_scores(beta0,eta,lam,myrdd):\n",
    "    #run SGD on a single batch\n",
    "    #assume myrdd has rows as ([sparse_vec_map2vocab],score), beta =[numpy_array_rowvec]\n",
    "    \n",
    "    #collect into a list for easier processing\n",
    "    myrdd_list = myrdd.collect()\n",
    "    #print \"myrdd_list[0]: \", myrdd_list[0]\n",
    "    \n",
    "    beta = beta0 #initialize betas\n",
    "    yerr=[] #store error in y\n",
    "    yres=[] #store residual\n",
    "    loglike=[] #store log likelihood\n",
    "    \n",
    "    for n in np.arange(len(myrdd_list)):\n",
    "        x=myrdd_list[n][0]\n",
    "        y=myrdd_list[n][1]\n",
    "        #print x, y\n",
    "        pi, yhat = pi_log_scores(beta,x)\n",
    "        #print n, pi, yhat,(y-pi)\n",
    "        \n",
    "        #compute residual\n",
    "        yres.append(y-pi)\n",
    "        \n",
    "        #compute error rate = is prediction right or wrong?\n",
    "        if (y==1 and pi >= 0.5) or (y==0 and pi < 0.5): #got this right\n",
    "            yerr.append(0) #error = 0\n",
    "        else:\n",
    "            yerr.append(1)\n",
    "        beta = update_beta_scores(beta,eta,lam,x,y-pi)\n",
    "        \n",
    "        #compute log likelihood = pi if y=1, (1-p) if y=0\n",
    "        if (y==1):\n",
    "            loglike.append(np.log(pi))\n",
    "        else:\n",
    "            loglike.append(np.log(float(1.0)-pi))\n",
    "            \n",
    "    return beta, yres, yerr, loglike\n",
    "  \n",
    "def eval_all_scores(beta0,eta0,lam,all_rdd):\n",
    "    #run one pass of SGD on all batches\n",
    "    numbatches = len(all_rdd)\n",
    "    c1=0.5 #0.02\n",
    "    c2=0.5\n",
    "    eta=eta0\n",
    "    beta = beta0\n",
    "    error_rate = []\n",
    "    residuals = []\n",
    "    sum_loglike = []\n",
    "    for t in np.arange(numbatches):\n",
    "        eta = c1/(t+1.0)**c2\n",
    "        print \"******** batch no. \", t, ', eta=', eta \n",
    "        \n",
    "        myrdd = all_rdd[t]\n",
    "        beta, yres, yerr, loglike = eval_one_batch_scores(beta,eta,lam,myrdd)\n",
    "        abs_error = sum(np.abs(yres))\n",
    "        print 'sum_abs_res = ', abs_error, 'for batchsize=', len(yres), 'norm(beta): ', np.linalg.norm(beta)\n",
    "        print 'no. wrong pred = ', sum(yerr), ', log(like)=', sum(loglike) \n",
    "        error_rate.append(float(sum(yerr))/float(len(yres)))\n",
    "        residuals.append(abs_error)\n",
    "        sum_loglike.append(sum(loglike))\n",
    "        \n",
    "        #break out of loop if not making progress in SGD\n",
    "        if t>5 and np.std(error_rate[-5:]) < 0.0005:\n",
    "            print \"---- SGD not making progress for past 5 batches! aborting SGD -----\"\n",
    "            break\n",
    "        \n",
    "    return error_rate, residuals, sum_loglike, beta"
   ]
  },
  {
   "cell_type": "code",
   "execution_count": 51,
   "metadata": {
    "collapsed": false
   },
   "outputs": [
    {
     "name": "stdout",
     "output_type": "stream",
     "text": [
      "[(array([ 0.6989573 ,  0.3944758 , -0.30980034,  0.93018611,  0.95414716,  1.        ]), 1)]\n"
     ]
    }
   ],
   "source": [
    "print train_sample[0].take(1)"
   ]
  },
  {
   "cell_type": "code",
   "execution_count": 52,
   "metadata": {
    "collapsed": false
   },
   "outputs": [
    {
     "name": "stdout",
     "output_type": "stream",
     "text": [
      "******** batch no.  0 , eta= 0.5\n",
      "sum_abs_res =  [ 3509.183026] for batchsize= 15106 norm(beta):  2.18677879387\n",
      "no. wrong pred =  2837 , log(like)= [-6253.56644304]\n",
      "******** batch no.  1 , eta= 0.353553390593\n",
      "sum_abs_res =  [ 3473.16249062] for batchsize= 15182 norm(beta):  3.10494279584\n",
      "no. wrong pred =  2614 , log(like)= [-5863.73203088]\n",
      "******** batch no.  2 , eta= 0.288675134595\n",
      "sum_abs_res =  [ 3471.19279982] for batchsize= 15058 norm(beta):  2.90944408936\n",
      "no. wrong pred =  2610 , log(like)= [-5750.57714971]\n",
      "******** batch no.  3 , eta= 0.25\n",
      "sum_abs_res =  [ 3490.03223912] for batchsize= 14985 norm(beta):  2.06803357282\n",
      "no. wrong pred =  2597 , log(like)= [-5715.57876759]\n",
      "******** batch no.  4 , eta= 0.22360679775\n",
      "sum_abs_res =  [ 3572.65417685] for batchsize= 15211 norm(beta):  2.5375472023\n",
      "no. wrong pred =  2682 , log(like)= [-5757.29360687]\n",
      "******** batch no.  5 , eta= 0.204124145232\n",
      "sum_abs_res =  [ 3425.07406725] for batchsize= 14779 norm(beta):  2.32781197289\n",
      "no. wrong pred =  2484 , log(like)= [-5486.07667713]\n",
      "******** batch no.  6 , eta= 0.188982236505\n",
      "sum_abs_res =  [ 3457.30563741] for batchsize= 14768 norm(beta):  2.14984379451\n",
      "no. wrong pred =  2507 , log(like)= [-5515.27148716]\n",
      "******** batch no.  7 , eta= 0.176776695297\n",
      "sum_abs_res =  [ 3453.27700225] for batchsize= 14982 norm(beta):  2.40812253963\n",
      "no. wrong pred =  2478 , log(like)= [-5485.55415257]\n",
      "******** batch no.  8 , eta= 0.166666666667\n",
      "sum_abs_res =  [ 3514.4819915] for batchsize= 15060 norm(beta):  2.5136800388\n",
      "no. wrong pred =  2549 , log(like)= [-5572.7701832]\n",
      "******** batch no.  9 , eta= 0.158113883008\n",
      "sum_abs_res =  [ 3492.01948321] for batchsize= 14768 norm(beta):  2.87582281292\n",
      "no. wrong pred =  2529 , log(like)= [-5523.8459111]\n",
      "******** batch no.  10 , eta= 0.150755672289\n",
      "sum_abs_res =  [ 3529.75416647] for batchsize= 14900 norm(beta):  2.52131770629\n",
      "no. wrong pred =  2496 , log(like)= [-5607.55087149]\n",
      "******** batch no.  11 , eta= 0.144337567297\n",
      "sum_abs_res =  [ 3551.26871116] for batchsize= 15126 norm(beta):  2.62460584835\n",
      "no. wrong pred =  2533 , log(like)= [-5582.18230861]\n",
      "******** batch no.  12 , eta= 0.138675049056\n",
      "sum_abs_res =  [ 3555.913582] for batchsize= 15278 norm(beta):  2.30765954885\n",
      "no. wrong pred =  2499 , log(like)= [-5624.4167526]\n",
      "******** batch no.  13 , eta= 0.133630620956\n",
      "sum_abs_res =  [ 3526.71730031] for batchsize= 14937 norm(beta):  2.21845297569\n",
      "no. wrong pred =  2457 , log(like)= [-5569.58109066]\n",
      "******** batch no.  14 , eta= 0.129099444874\n",
      "sum_abs_res =  [ 3453.35442295] for batchsize= 14888 norm(beta):  2.44933222067\n",
      "no. wrong pred =  2443 , log(like)= [-5403.00812635]\n",
      "******** batch no.  15 , eta= 0.125\n",
      "sum_abs_res =  [ 3537.47864181] for batchsize= 14920 norm(beta):  2.06881920365\n",
      "no. wrong pred =  2513 , log(like)= [-5543.13721912]\n",
      "******** batch no.  16 , eta= 0.121267812518\n",
      "sum_abs_res =  [ 3435.43100813] for batchsize= 14848 norm(beta):  2.27295711834\n",
      "no. wrong pred =  2417 , log(like)= [-5384.70355515]\n",
      "******** batch no.  17 , eta= 0.117851130198\n",
      "sum_abs_res =  [ 3512.09774591] for batchsize= 14976 norm(beta):  2.53479639686\n",
      "no. wrong pred =  2479 , log(like)= [-5487.28253392]\n",
      "******** batch no.  18 , eta= 0.114707866935\n",
      "sum_abs_res =  [ 3494.01031562] for batchsize= 14907 norm(beta):  2.48670360708\n",
      "no. wrong pred =  2438 , log(like)= [-5471.31938187]\n",
      "******** batch no.  19 , eta= 0.111803398875\n",
      "sum_abs_res =  [ 3530.96010707] for batchsize= 15278 norm(beta):  2.60209204844\n",
      "no. wrong pred =  2491 , log(like)= [-5512.93192257]\n",
      "******** batch no.  20 , eta= 0.109108945118\n",
      "sum_abs_res =  [ 3580.34057336] for batchsize= 15145 norm(beta):  2.46983614435\n",
      "no. wrong pred =  2498 , log(like)= [-5581.58592019]\n",
      "******** batch no.  21 , eta= 0.106600358178\n",
      "sum_abs_res =  [ 3550.43760501] for batchsize= 15021 norm(beta):  1.96936332816\n",
      "no. wrong pred =  2537 , log(like)= [-5533.04848592]\n",
      "******** batch no.  22 , eta= 0.104257207029\n",
      "sum_abs_res =  [ 3519.66732871] for batchsize= 15020 norm(beta):  2.45591300719\n",
      "no. wrong pred =  2464 , log(like)= [-5485.30558338]\n",
      "******** batch no.  23 , eta= 0.102062072616\n",
      "sum_abs_res =  [ 3517.39641807] for batchsize= 14993 norm(beta):  2.39705950428\n",
      "no. wrong pred =  2437 , log(like)= [-5482.4756446]\n",
      "******** batch no.  24 , eta= 0.1\n",
      "sum_abs_res =  [ 3637.54830114] for batchsize= 15315 norm(beta):  2.53578291848\n",
      "no. wrong pred =  2507 , log(like)= [-5655.69042459]\n",
      "******** batch no.  25 , eta= 0.0980580675691\n",
      "sum_abs_res =  [ 3459.19500223] for batchsize= 15003 norm(beta):  2.67135531695\n",
      "no. wrong pred =  2461 , log(like)= [-5352.70372172]\n",
      "******** batch no.  26 , eta= 0.0962250448649\n",
      "sum_abs_res =  [ 3488.72165887] for batchsize= 15029 norm(beta):  2.80902578973\n",
      "no. wrong pred =  2410 , log(like)= [-5427.73765216]\n",
      "******** batch no.  27 , eta= 0.0944911182523\n",
      "sum_abs_res =  [ 3461.79241342] for batchsize= 15024 norm(beta):  2.60930960563\n",
      "no. wrong pred =  2399 , log(like)= [-5377.25809916]\n",
      "******** batch no.  28 , eta= 0.0928476690885\n",
      "sum_abs_res =  [ 3541.38857665] for batchsize= 15170 norm(beta):  2.51829271089\n",
      "no. wrong pred =  2450 , log(like)= [-5480.92309482]\n",
      "******** batch no.  29 , eta= 0.0912870929175\n",
      "sum_abs_res =  [ 3561.50516088] for batchsize= 14971 norm(beta):  2.46998177209\n",
      "no. wrong pred =  2492 , log(like)= [-5507.07249091]\n",
      "******** batch no.  30 , eta= 0.0898026510134\n",
      "sum_abs_res =  [ 3497.90684232] for batchsize= 15068 norm(beta):  2.37564246252\n",
      "no. wrong pred =  2412 , log(like)= [-5420.34992844]\n",
      "******** batch no.  31 , eta= 0.0883883476483\n",
      "sum_abs_res =  [ 3405.47813029] for batchsize= 14783 norm(beta):  2.24414806465\n",
      "no. wrong pred =  2337 , log(like)= [-5288.40713018]\n",
      "******** batch no.  32 , eta= 0.0870388279778\n",
      "sum_abs_res =  [ 3459.16271126] for batchsize= 14908 norm(beta):  2.35243651403\n",
      "no. wrong pred =  2398 , log(like)= [-5360.39746862]\n",
      "******** batch no.  33 , eta= 0.0857492925713\n",
      "sum_abs_res =  [ 3332.4947927] for batchsize= 15024 norm(beta):  2.42677247408\n",
      "no. wrong pred =  2247 , log(like)= [-5155.96950534]\n",
      "******** batch no.  34 , eta= 0.0845154254729\n",
      "sum_abs_res =  [ 3613.09530242] for batchsize= 15089 norm(beta):  2.19050249512\n",
      "no. wrong pred =  2553 , log(like)= [-5597.25372316]\n",
      "******** batch no.  35 , eta= 0.0833333333333\n",
      "sum_abs_res =  [ 3486.26667526] for batchsize= 14881 norm(beta):  2.44547989976\n",
      "no. wrong pred =  2394 , log(like)= [-5397.90975764]\n",
      "******** batch no.  36 , eta= 0.0821994936527\n",
      "sum_abs_res =  [ 3430.84650636] for batchsize= 14768 norm(beta):  2.66353278726\n",
      "no. wrong pred =  2368 , log(like)= [-5290.00864016]\n",
      "******** batch no.  37 , eta= 0.0811107105654\n",
      "sum_abs_res =  [ 3493.9227481] for batchsize= 14870 norm(beta):  2.55440121209\n",
      "no. wrong pred =  2380 , log(like)= [-5415.0434528]\n",
      "******** batch no.  38 , eta= 0.0800640769025\n",
      "sum_abs_res =  [ 3488.09730656] for batchsize= 14801 norm(beta):  2.18534360627\n",
      "no. wrong pred =  2403 , log(like)= [-5392.86087921]\n",
      "******** batch no.  39 , eta= 0.0790569415042\n",
      "sum_abs_res =  [ 3480.2699571] for batchsize= 14860 norm(beta):  2.34834345503\n",
      "no. wrong pred =  2406 , log(like)= [-5387.73440044]\n",
      "******** batch no.  40 , eta= 0.0780868809443\n",
      "sum_abs_res =  [ 3523.55308673] for batchsize= 14978 norm(beta):  2.64256242953\n",
      "no. wrong pred =  2448 , log(like)= [-5456.35243171]\n",
      "******** batch no.  41 , eta= 0.077151674981\n",
      "sum_abs_res =  [ 3535.45582718] for batchsize= 14871 norm(beta):  2.29980052785\n",
      "no. wrong pred =  2459 , log(like)= [-5459.98006052]\n",
      "******** batch no.  42 , eta= 0.0762492851663\n",
      "sum_abs_res =  [ 3505.44941713] for batchsize= 14976 norm(beta):  2.30800725406\n",
      "no. wrong pred =  2379 , log(like)= [-5425.8237317]\n",
      "******** batch no.  43 , eta= 0.0753778361444\n",
      "sum_abs_res =  [ 3592.98815126] for batchsize= 14993 norm(beta):  2.07124935874\n",
      "no. wrong pred =  2473 , log(like)= [-5561.97378616]\n",
      "******** batch no.  44 , eta= 0.07453559925\n",
      "sum_abs_res =  [ 3558.32280261] for batchsize= 15151 norm(beta):  2.24789736766\n",
      "no. wrong pred =  2447 , log(like)= [-5491.28838496]\n",
      "******** batch no.  45 , eta= 0.0737209780774\n",
      "sum_abs_res =  [ 3531.61982863] for batchsize= 15075 norm(beta):  2.56628612773\n",
      "no. wrong pred =  2435 , log(like)= [-5453.88862034]\n",
      "******** batch no.  46 , eta= 0.0729324957489\n",
      "sum_abs_res =  [ 3537.21179296] for batchsize= 15002 norm(beta):  2.36153169191\n",
      "no. wrong pred =  2445 , log(like)= [-5456.85630594]\n",
      "******** batch no.  47 , eta= 0.0721687836487\n",
      "sum_abs_res =  [ 3443.85535297] for batchsize= 14990 norm(beta):  2.63013191841\n",
      "no. wrong pred =  2391 , log(like)= [-5278.85288347]\n",
      "******** batch no.  48 , eta= 0.0714285714286\n",
      "sum_abs_res =  [ 3467.18338951] for batchsize= 14824 norm(beta):  2.47654724475\n",
      "no. wrong pred =  2391 , log(like)= [-5336.49248413]\n",
      "******** batch no.  49 , eta= 0.0707106781187\n",
      "sum_abs_res =  [ 3440.12417828] for batchsize= 14871 norm(beta):  2.53231818522\n",
      "no. wrong pred =  2354 , log(like)= [-5316.08204343]\n",
      "******** batch no.  50 , eta= 0.0700140042014\n",
      "sum_abs_res =  [ 3576.16604567] for batchsize= 15104 norm(beta):  2.36048306532\n",
      "no. wrong pred =  2467 , log(like)= [-5511.84533313]\n",
      "******** batch no.  51 , eta= 0.0693375245282\n",
      "sum_abs_res =  [ 3486.11324606] for batchsize= 14820 norm(beta):  2.39195810795\n",
      "no. wrong pred =  2374 , log(like)= [-5359.01554737]\n",
      "******** batch no.  52 , eta= 0.0686802819743\n",
      "sum_abs_res =  [ 3545.53544623] for batchsize= 15022 norm(beta):  2.28793474454\n",
      "no. wrong pred =  2425 , log(like)= [-5461.89511862]\n",
      "******** batch no.  53 , eta= 0.068041381744\n",
      "sum_abs_res =  [ 3544.36594817] for batchsize= 14976 norm(beta):  2.49437270149\n",
      "no. wrong pred =  2436 , log(like)= [-5462.17421518]\n",
      "******** batch no.  54 , eta= 0.0674199862463\n",
      "sum_abs_res =  [ 3599.70275058] for batchsize= 14988 norm(beta):  2.405455158\n",
      "no. wrong pred =  2481 , log(like)= [-5552.90044853]\n",
      "******** batch no.  55 , eta= 0.0668153104781\n",
      "sum_abs_res =  [ 3543.9191196] for batchsize= 14917 norm(beta):  2.35490578614\n",
      "no. wrong pred =  2486 , log(like)= [-5439.00861046]\n",
      "******** batch no.  56 , eta= 0.0662266178533\n",
      "sum_abs_res =  [ 3469.11165941] for batchsize= 15048 norm(beta):  2.37721376587\n",
      "no. wrong pred =  2390 , log(like)= [-5346.07457191]\n",
      "******** batch no.  57 , eta= 0.0656532164299\n",
      "sum_abs_res =  [ 3514.51552499] for batchsize= 15078 norm(beta):  2.11135064325\n",
      "no. wrong pred =  2430 , log(like)= [-5401.22055656]\n",
      "******** batch no.  58 , eta= 0.0650944554904\n",
      "sum_abs_res =  [ 3473.34683906] for batchsize= 15028 norm(beta):  2.58278155256\n",
      "no. wrong pred =  2396 , log(like)= [-5320.81598431]\n",
      "******** batch no.  59 , eta= 0.0645497224368\n",
      "sum_abs_res =  [ 3509.692178] for batchsize= 14810 norm(beta):  2.30379365973\n",
      "no. wrong pred =  2405 , log(like)= [-5413.12230528]\n",
      "******** batch no.  60 , eta= 0.0640184399664\n",
      "sum_abs_res =  [ 3447.52347574] for batchsize= 14808 norm(beta):  2.30474942246\n",
      "no. wrong pred =  2354 , log(like)= [-5315.39308896]\n",
      "******** batch no.  61 , eta= 0.0635000635001\n",
      "sum_abs_res =  [ 3536.11315062] for batchsize= 15053 norm(beta):  2.39596892434\n",
      "no. wrong pred =  2408 , log(like)= [-5454.6015346]\n",
      "******** batch no.  62 , eta= 0.0629940788349\n",
      "sum_abs_res =  [ 3540.22387204] for batchsize= 15131 norm(beta):  2.03245229757\n",
      "no. wrong pred =  2448 , log(like)= [-5446.22671244]\n",
      "******** batch no.  63 , eta= 0.0625\n",
      "sum_abs_res =  [ 3650.00684066] for batchsize= 15342 norm(beta):  2.56045107293\n",
      "no. wrong pred =  2510 , log(like)= [-5596.76910796]\n",
      "******** batch no.  64 , eta= 0.0620173672946\n",
      "sum_abs_res =  [ 3524.62468514] for batchsize= 15232 norm(beta):  2.26319545661\n",
      "no. wrong pred =  2414 , log(like)= [-5423.55157994]\n",
      "******** batch no.  65 , eta= 0.0615457454897\n",
      "sum_abs_res =  [ 3561.46558251] for batchsize= 15184 norm(beta):  2.41237363777\n",
      "no. wrong pred =  2483 , log(like)= [-5449.72831213]\n",
      "******** batch no.  66 , eta= 0.0610847221782\n",
      "sum_abs_res =  [ 3493.62988982] for batchsize= 14926 norm(beta):  2.38523893105\n",
      "no. wrong pred =  2339 , log(like)= [-5377.759479]\n",
      "******** batch no.  67 , eta= 0.0606339062591\n",
      "sum_abs_res =  [ 3525.18368974] for batchsize= 15178 norm(beta):  2.38696489056\n",
      "no. wrong pred =  2441 , log(like)= [-5386.26773265]\n",
      "******** batch no.  68 , eta= 0.0601929265429\n",
      "sum_abs_res =  [ 3559.02764691] for batchsize= 15111 norm(beta):  2.51444534111\n",
      "no. wrong pred =  2415 , log(like)= [-5486.21983041]\n",
      "******** batch no.  69 , eta= 0.0597614304667\n",
      "sum_abs_res =  [ 3487.26501769] for batchsize= 14919 norm(beta):  2.5886688251\n",
      "no. wrong pred =  2387 , log(like)= [-5366.82026155]\n",
      "******** batch no.  70 , eta= 0.0593390829097\n",
      "sum_abs_res =  [ 3403.02523489] for batchsize= 14941 norm(beta):  2.80110867741\n",
      "no. wrong pred =  2287 , log(like)= [-5228.54042069]\n",
      "******** batch no.  71 , eta= 0.0589255650989\n",
      "sum_abs_res =  [ 3452.09849799] for batchsize= 14958 norm(beta):  2.36344400804\n",
      "no. wrong pred =  2332 , log(like)= [-5336.25239425]\n",
      "******** batch no.  72 , eta= 0.0585205735981\n",
      "sum_abs_res =  [ 3443.68085949] for batchsize= 15006 norm(beta):  2.38397678351\n",
      "no. wrong pred =  2365 , log(like)= [-5286.86371899]\n",
      "******** batch no.  73 , eta= 0.0581238193719\n",
      "sum_abs_res =  [ 3545.2880091] for batchsize= 15256 norm(beta):  2.21194833428\n",
      "no. wrong pred =  2405 , log(like)= [-5444.74886654]\n",
      "******** batch no.  74 , eta= 0.057735026919\n",
      "sum_abs_res =  [ 3478.22362533] for batchsize= 14869 norm(beta):  2.52593509929\n",
      "no. wrong pred =  2366 , log(like)= [-5345.93482857]\n",
      "******** batch no.  75 , eta= 0.0573539334676\n",
      "sum_abs_res =  [ 3444.00943392] for batchsize= 14875 norm(beta):  2.57898661338\n",
      "no. wrong pred =  2326 , log(like)= [-5286.11798673]\n",
      "******** batch no.  76 , eta= 0.0569802882298\n",
      "sum_abs_res =  [ 3598.94429531] for batchsize= 15284 norm(beta):  2.56090061808\n",
      "no. wrong pred =  2444 , log(like)= [-5527.07173605]\n",
      "******** batch no.  77 , eta= 0.0566138517072\n",
      "sum_abs_res =  [ 3454.36194759] for batchsize= 14960 norm(beta):  2.20759207437\n",
      "no. wrong pred =  2376 , log(like)= [-5288.24683375]\n",
      "******** batch no.  78 , eta= 0.0562543950463\n",
      "sum_abs_res =  [ 3553.10881901] for batchsize= 15079 norm(beta):  2.52775414214\n",
      "no. wrong pred =  2426 , log(like)= [-5429.60329237]\n",
      "******** batch no.  79 , eta= 0.0559016994375\n",
      "sum_abs_res =  [ 3615.91948463] for batchsize= 15222 norm(beta):  2.50073394545\n",
      "no. wrong pred =  2499 , log(like)= [-5540.72900969]\n",
      "******** batch no.  80 , eta= 0.0555555555556\n",
      "sum_abs_res =  [ 3538.4454359] for batchsize= 15055 norm(beta):  2.2730333504\n",
      "no. wrong pred =  2473 , log(like)= [-5431.16665137]\n",
      "******** batch no.  81 , eta= 0.0552157630374\n",
      "sum_abs_res =  [ 3507.07440597] for batchsize= 15090 norm(beta):  2.52928425493\n",
      "no. wrong pred =  2426 , log(like)= [-5342.0222128]\n",
      "******** batch no.  82 , eta= 0.0548821299948\n",
      "sum_abs_res =  [ 3489.91180941] for batchsize= 14971 norm(beta):  2.39686224473\n",
      "no. wrong pred =  2373 , log(like)= [-5375.23907545]\n",
      "******** batch no.  83 , eta= 0.054554472559\n",
      "sum_abs_res =  [ 3507.59146846] for batchsize= 14927 norm(beta):  2.62856547895\n",
      "no. wrong pred =  2397 , log(like)= [-5359.88564658]\n",
      "******** batch no.  84 , eta= 0.0542326144547\n",
      "sum_abs_res =  [ 3528.07845375] for batchsize= 15010 norm(beta):  2.48060698396\n",
      "no. wrong pred =  2373 , log(like)= [-5395.95327122]\n",
      "******** batch no.  85 , eta= 0.0539163866017\n",
      "sum_abs_res =  [ 3531.01131318] for batchsize= 14950 norm(beta):  2.32250858656\n",
      "no. wrong pred =  2398 , log(like)= [-5445.74210853]\n",
      "******** batch no.  86 , eta= 0.0536056267419\n",
      "sum_abs_res =  [ 3543.334996] for batchsize= 14808 norm(beta):  2.3421888343\n",
      "no. wrong pred =  2385 , log(like)= [-5434.68495704]\n",
      "******** batch no.  87 , eta= 0.0533001790889\n",
      "sum_abs_res =  [ 3564.19220481] for batchsize= 14948 norm(beta):  2.39623736785\n",
      "no. wrong pred =  2476 , log(like)= [-5449.68894152]\n",
      "******** batch no.  88 , eta= 0.0529998940003\n",
      "sum_abs_res =  [ 3426.47001533] for batchsize= 14834 norm(beta):  2.65539666074\n",
      "no. wrong pred =  2337 , log(like)= [-5231.30677201]\n",
      "******** batch no.  89 , eta= 0.0527046276695\n",
      "sum_abs_res =  [ 3507.98511565] for batchsize= 14946 norm(beta):  2.33057963521\n",
      "no. wrong pred =  2418 , log(like)= [-5371.74478537]\n",
      "******** batch no.  90 , eta= 0.0524142418361\n",
      "sum_abs_res =  [ 3510.66164432] for batchsize= 15009 norm(beta):  2.62702667664\n",
      "no. wrong pred =  2367 , log(like)= [-5387.91621555]\n",
      "******** batch no.  91 , eta= 0.0521286035143\n",
      "sum_abs_res =  [ 3486.06213041] for batchsize= 15052 norm(beta):  2.40428268993\n",
      "no. wrong pred =  2388 , log(like)= [-5355.12367149]\n",
      "******** batch no.  92 , eta= 0.0518475847365\n",
      "sum_abs_res =  [ 3505.87853787] for batchsize= 14816 norm(beta):  2.34041972988\n",
      "no. wrong pred =  2398 , log(like)= [-5383.6684637]\n",
      "******** batch no.  93 , eta= 0.0515710623129\n",
      "sum_abs_res =  [ 3492.41716976] for batchsize= 15074 norm(beta):  2.29055112058\n",
      "no. wrong pred =  2351 , log(like)= [-5351.3246845]\n",
      "******** batch no.  94 , eta= 0.0512989176043\n",
      "sum_abs_res =  [ 3550.80354682] for batchsize= 14992 norm(beta):  2.4774736229\n",
      "no. wrong pred =  2417 , log(like)= [-5447.92528501]\n",
      "******** batch no.  95 , eta= 0.051031036308\n",
      "sum_abs_res =  [ 3548.6377552] for batchsize= 14999 norm(beta):  2.56097110984\n",
      "no. wrong pred =  2443 , log(like)= [-5426.25587565]\n",
      "******** batch no.  96 , eta= 0.0507673082567\n",
      "sum_abs_res =  [ 3603.76521007] for batchsize= 15077 norm(beta):  2.63563584827\n",
      "no. wrong pred =  2481 , log(like)= [-5513.4990991]\n",
      "******** batch no.  97 , eta= 0.0505076272276\n",
      "sum_abs_res =  [ 3513.92176538] for batchsize= 14921 norm(beta):  2.41879883476\n",
      "no. wrong pred =  2388 , log(like)= [-5380.65677325]\n",
      "******** batch no.  98 , eta= 0.050251890763\n",
      "sum_abs_res =  [ 3536.16637614] for batchsize= 15159 norm(beta):  2.29160702237\n",
      "no. wrong pred =  2396 , log(like)= [-5412.61029859]\n",
      "******** batch no.  99 , eta= 0.05\n",
      "sum_abs_res =  [ 3510.50916363] for batchsize= 14986 norm(beta):  2.22236774487\n",
      "no. wrong pred =  2395 , log(like)= [-5377.43947662]\n",
      "******** batch no.  100 , eta= 0.0497518595105\n",
      "sum_abs_res =  [ 3540.19677345] for batchsize= 15056 norm(beta):  2.45537812911\n",
      "no. wrong pred =  2420 , log(like)= [-5390.00544732]\n",
      "******** batch no.  101 , eta= 0.0495073771488\n",
      "sum_abs_res =  [ 3547.50234126] for batchsize= 15019 norm(beta):  2.38766781001\n",
      "no. wrong pred =  2443 , log(like)= [-5426.20932819]\n",
      "******** batch no.  102 , eta= 0.0492664639082\n",
      "sum_abs_res =  [ 3559.01334588] for batchsize= 15150 norm(beta):  2.27568051139\n",
      "no. wrong pred =  2481 , log(like)= [-5425.70670267]\n",
      "******** batch no.  103 , eta= 0.0490290337845\n",
      "sum_abs_res =  [ 3468.59762619] for batchsize= 14980 norm(beta):  2.48716556819\n",
      "no. wrong pred =  2337 , log(like)= [-5304.44013602]\n",
      "******** batch no.  104 , eta= 0.0487950036474\n",
      "sum_abs_res =  [ 3484.98420874] for batchsize= 14813 norm(beta):  2.28801828664\n",
      "no. wrong pred =  2334 , log(like)= [-5355.04340096]\n",
      "******** batch no.  105 , eta= 0.0485642931179\n",
      "sum_abs_res =  [ 3590.20174491] for batchsize= 15068 norm(beta):  2.43311414491\n",
      "no. wrong pred =  2436 , log(like)= [-5487.36318292]\n",
      "******** batch no.  106 , eta= 0.0483368244523\n",
      "sum_abs_res =  [ 3521.8721184] for batchsize= 15050 norm(beta):  2.41781279513\n",
      "no. wrong pred =  2415 , log(like)= [-5391.70967519]\n",
      "******** batch no.  107 , eta= 0.0481125224325\n",
      "sum_abs_res =  [ 3534.1433036] for batchsize= 14965 norm(beta):  2.44770931541\n",
      "no. wrong pred =  2426 , log(like)= [-5397.27907712]\n",
      "******** batch no.  108 , eta= 0.0478913142611\n",
      "sum_abs_res =  [ 3533.254714] for batchsize= 14980 norm(beta):  2.18458477044\n",
      "no. wrong pred =  2406 , log(like)= [-5435.51315873]\n",
      "******** batch no.  109 , eta= 0.0476731294623\n",
      "sum_abs_res =  [ 3588.25506896] for batchsize= 15234 norm(beta):  2.46071629594\n",
      "no. wrong pred =  2440 , log(like)= [-5484.98420516]\n",
      "******** batch no.  110 , eta= 0.0474578997876\n",
      "sum_abs_res =  [ 3453.29934124] for batchsize= 14922 norm(beta):  2.33973062747\n",
      "no. wrong pred =  2382 , log(like)= [-5271.81509183]\n",
      "******** batch no.  111 , eta= 0.0472455591262\n",
      "sum_abs_res =  [ 3547.92355416] for batchsize= 15108 norm(beta):  2.240290623\n",
      "no. wrong pred =  2398 , log(like)= [-5458.31199752]\n",
      "******** batch no.  112 , eta= 0.0470360434192\n",
      "sum_abs_res =  [ 3512.65475077] for batchsize= 14899 norm(beta):  2.01185248178\n",
      "no. wrong pred =  2385 , log(like)= [-5396.48254579]\n",
      "******** batch no.  113 , eta= 0.0468292905791\n",
      "sum_abs_res =  [ 3478.00822913] for batchsize= 15030 norm(beta):  2.28040386545\n",
      "no. wrong pred =  2376 , log(like)= [-5287.01096777]\n",
      "******** batch no.  114 , eta= 0.046625240412\n",
      "sum_abs_res =  [ 3438.08038315] for batchsize= 14694 norm(beta):  2.36840133496\n",
      "no. wrong pred =  2364 , log(like)= [-5240.06332884]\n"
     ]
    }
   ],
   "source": [
    "#parameters for SGD\n",
    "beta0=beta_scores\n",
    "eta0=0.5\n",
    "lam=0.005\n",
    "\n",
    "#previously plotted error rate for 1-35 batches ==> error rate remains between 26-27% for all batches\n",
    "batch_start=1\n",
    "batch_end=numbatches\n",
    "error_rate, residuals, log_like, beta_fit = eval_all_scores(beta0,eta0,lam,train_sample[batch_start:batch_end])"
   ]
  },
  {
   "cell_type": "code",
   "execution_count": 53,
   "metadata": {
    "collapsed": false
   },
   "outputs": [
    {
     "data": {
      "text/plain": [
       "<matplotlib.text.Text at 0x7f55a9cf4990>"
      ]
     },
     "execution_count": 53,
     "metadata": {},
     "output_type": "execute_result"
    },
    {
     "data": {
      "image/png": "[encoded data removed]",
      "text/plain": [
       "<matplotlib.figure.Figure at 0x7f55a9d06410>"
      ]
     },
     "metadata": {},
     "output_type": "display_data"
    }
   ],
   "source": [
    "#plot training error as a fn of iteration\n",
    "plt.plot(np.arange(batch_start,batch_end),error_rate,'o-')\n",
    "plt.xlabel('batch no.')\n",
    "plt.ylabel('error')\n",
    "plt.title('training error using scores')"
   ]
  },
  {
   "cell_type": "markdown",
   "metadata": {},
   "source": [
    "The training error of the scores-based analysis is much better! Let's see what happens when we use this model on the test set."
   ]
  },
  {
   "cell_type": "code",
   "execution_count": 59,
   "metadata": {
    "collapsed": true
   },
   "outputs": [],
   "source": [
    "#compute test error for last set of betas on entire testing set\n",
    "#represent review as a sparse feature vector\n",
    "# df_test_sparse_vec = test.map(lambda x: (x['review'],x['overall'])).\\\n",
    "#                             map(lambda x: (mapToMasterKeys(cleanString(x[0]),vocab),binaryScore(x[1]))).\\\n",
    "#                             map(lambda x: validate(beta_fit,x)).cache()\n",
    "        \n",
    "#normalize reviews\n",
    "test_scores_df = test.map(lambda x: (x['appearance'], x['aroma'], x['palate'],x['style'], x['taste'],x['overall'])).\\\n",
    "                    map(lambda x: normRatings(x,names,means,stdevs)).\\\n",
    "                    map(lambda x: validate_scores(beta_fit,x))"
   ]
  },
  {
   "cell_type": "code",
   "execution_count": 60,
   "metadata": {
    "collapsed": false
   },
   "outputs": [],
   "source": [
    "test_scores_error = test_scores_df.map(lambda x: x[0]).mean()"
   ]
  },
  {
   "cell_type": "code",
   "execution_count": 61,
   "metadata": {
    "collapsed": false
   },
   "outputs": [
    {
     "name": "stdout",
     "output_type": "stream",
     "text": [
      "0.156842910893\n"
     ]
    }
   ],
   "source": [
    "print test_scores_error"
   ]
  },
  {
   "cell_type": "markdown",
   "metadata": {},
   "source": [
    "The scores-based prediction seems to do a lot better on the test dataset as well: testing error of about 16% vs 28%. I'm guessing high scores on individual metrics are well correlated with the overall scores, so they are good predictors. Our text prediction method is much more crude, so either we didn't capture the most impactful words in determining the overall scores or perhaps we just cannot capture the oveall score with a linear combination of words, as we're trying to do in the text-based prediction above."
   ]
  },
  {
   "cell_type": "markdown",
   "metadata": {},
   "source": [
    "## Part 4. Contest."
   ]
  },
  {
   "cell_type": "code",
   "execution_count": 2,
   "metadata": {
    "collapsed": false
   },
   "outputs": [],
   "source": [
    "%matplotlib inline\n",
    "import numpy as np\n",
    "import matplotlib.pyplot as plt\n",
    "from pyspark.sql import SparkSession\n",
    "import string\n",
    "from collections import Counter\n",
    "from PIL import Image\n",
    "from operator import add\n",
    "import json\n",
    "import re\n",
    "from scipy.sparse import coo_matrix\n",
    "from pyspark.mllib.classification import SVMWithSGD, SVMModel\n",
    "from pyspark.mllib.regression import LabeledPoint\n",
    "\n",
    "spark_contest = SparkSession.builder.appName('beer-svm').getOrCreate()"
   ]
  },
  {
   "cell_type": "code",
   "execution_count": 3,
   "metadata": {
    "collapsed": false
   },
   "outputs": [
    {
     "name": "stdout",
     "output_type": "stream",
     "text": [
      "+----------+-----+-------+--------------------+------+-------+------+--------------------+---------+-----+-----+\n",
      "|appearance|aroma|beer_id|           beer_name|brewer|overall|palate|              review|review_id|style|taste|\n",
      "+----------+-----+-------+--------------------+------+-------+------+--------------------+---------+-----+-----+\n",
      "|       4.0|  6.0|  45842|John Harvards Sim...|  3084|   13.0|   3.0|On tap at the Spr...|        0|   17|  6.0|\n",
      "|       4.0|  6.0|  45842|John Harvards Sim...|  3084|   13.0|   4.0|On tap at the Joh...|        1|   17|  7.0|\n",
      "+----------+-----+-------+--------------------+------+-------+------+--------------------+---------+-----+-----+\n",
      "only showing top 2 rows\n",
      "\n"
     ]
    }
   ],
   "source": [
    "#load data\n",
    "raw_df = spark_contest.read.json(\"/project/cmsc25025/beer_review/labeled.json\")\n",
    "raw_df.show(2)"
   ]
  },
  {
   "cell_type": "code",
   "execution_count": 4,
   "metadata": {
    "collapsed": true
   },
   "outputs": [],
   "source": [
    "#get mean and stdev for appearance, aroma, palate, style, taste\n",
    "names = ['appearance', 'aroma','palate','style','taste']\n",
    "means = dict([(i,0) for i in names])\n",
    "stdevs = dict([(i,0) for i in names])\n",
    "\n",
    "for name in names:\n",
    "    means[name] = raw_df.rdd.map(lambda x: x[name]).mean()\n",
    "    stdevs[name] = raw_df.rdd.map(lambda x: x[name]).stdev()"
   ]
  },
  {
   "cell_type": "code",
   "execution_count": 5,
   "metadata": {
    "collapsed": true
   },
   "outputs": [],
   "source": [
    "#normalize rdd\n",
    "\n",
    "#print means\n",
    "#print stdevs\n",
    "\n",
    "def binaryScore(x):\n",
    "    if x>14:\n",
    "        x=1\n",
    "    else:\n",
    "        x=0\n",
    "    return x\n",
    "\n",
    "def normRatings_LabeledPoint(x, names, means, stdevs):\n",
    "    sort_names = sorted(names)\n",
    "    #x = np.array(x[0]) #the list is stored as ([list]), so need to get [0] entry to get list\n",
    "    #print x\n",
    "    x = np.array(x)\n",
    "    for i in np.arange(len(sort_names)):\n",
    "        myname = sort_names[i]\n",
    "        #print i,myname\n",
    "        x[i] = (float(x[i])-float(means[myname]))/float(stdevs[myname])\n",
    "    y = binaryScore(x[-1])\n",
    "    x = np.delete(x,-1)\n",
    "    lp = LabeledPoint(y,x)\n",
    "    return lp"
   ]
  },
  {
   "cell_type": "code",
   "execution_count": 6,
   "metadata": {
    "collapsed": false
   },
   "outputs": [
    {
     "name": "stdout",
     "output_type": "stream",
     "text": [
      "[LabeledPoint(0.0, [0.698957295716,-0.215517980161,-0.309800335156,-0.943656144566,-0.278199503305]), LabeledPoint(0.0, [0.698957295716,-0.215517980161,0.895636057,-0.943656144566,0.337973829117]), LabeledPoint(0.0, [0.698957295716,-0.825511763502,-0.309800335156,-0.194119241001,-0.278199503305]), LabeledPoint(1.0, [1.92952085027,1.00446958652,0.895636057,0.97703217082,0.337973829117]), LabeledPoint(1.0, [0.698957295716,1.00446958652,-0.309800335156,-1.17788642693,0.337973829117])]\n"
     ]
    }
   ],
   "source": [
    "#normalize reviews and turn into labeled points\n",
    "norm_lp_df = raw_df.rdd.map(lambda x: (x['appearance'], x['aroma'], x['palate'],x['style'], x['taste'],x['overall'])).\\\n",
    "                    map(lambda x: normRatings_LabeledPoint(x,names,means,stdevs))\n",
    "train_svm, dev_svm, test_svm = norm_lp_df.randomSplit([70, 15, 15])\n",
    "\n",
    "boo=train_svm.take(5)\n",
    "print boo"
   ]
  },
  {
   "cell_type": "code",
   "execution_count": 7,
   "metadata": {
    "collapsed": true
   },
   "outputs": [],
   "source": [
    "#make linear SVM model of reviews: from https://spark.apache.org/docs/2.1.0/mllib-linear-methods.html\n",
    "\n",
    "#Build the model\n",
    "model = SVMWithSGD.train(train_svm, iterations=200)"
   ]
  },
  {
   "cell_type": "code",
   "execution_count": 8,
   "metadata": {
    "collapsed": false
   },
   "outputs": [
    {
     "name": "stdout",
     "output_type": "stream",
     "text": [
      "Training Error = 0.210527343986\n"
     ]
    }
   ],
   "source": [
    "# Evaluating the model on training data\n",
    "labelsAndPreds = train_svm.map(lambda p: (p.label, model.predict(p.features)))\n",
    "trainErr = labelsAndPreds.filter(lambda (v, p): v != p).count() / float(train_svm.count())\n",
    "print(\"Training Error = \" + str(trainErr))"
   ]
  },
  {
   "cell_type": "code",
   "execution_count": 9,
   "metadata": {
    "collapsed": false
   },
   "outputs": [
    {
     "name": "stdout",
     "output_type": "stream",
     "text": [
      "Testing Error = 0.211360318585\n"
     ]
    }
   ],
   "source": [
    "# Evaluating the model on testing data\n",
    "test_labelsAndPreds = test_svm.map(lambda p: (p.label, model.predict(p.features)))\n",
    "testErr = test_labelsAndPreds.filter(lambda (v, p): v != p).count() / float(test_svm.count())\n",
    "print(\"Testing Error = \" + str(testErr))"
   ]
  },
  {
   "cell_type": "markdown",
   "metadata": {},
   "source": [
    "### Let's use this linear SVM to predict unlabeled data:"
   ]
  },
  {
   "cell_type": "code",
   "execution_count": 11,
   "metadata": {
    "collapsed": false
   },
   "outputs": [
    {
     "name": "stdout",
     "output_type": "stream",
     "text": [
      "+----------+-----+-------+--------------------+------+------+--------------------+---------+-----+-----+\n",
      "|appearance|aroma|beer_id|           beer_name|brewer|palate|              review|review_id|style|taste|\n",
      "+----------+-----+-------+--------------------+------+------+--------------------+---------+-----+-----+\n",
      "|       2.0|  4.0|  65957|John Harvards Fan...|  3084|   2.0|On tap at the Spr...|        4|   33|  4.0|\n",
      "|       4.0|  5.0|  19708|John Harvards Dr....|  3084|   4.0|From Springfield ...|       12|   60|  7.0|\n",
      "+----------+-----+-------+--------------------+------+------+--------------------+---------+-----+-----+\n",
      "only showing top 2 rows\n",
      "\n"
     ]
    }
   ],
   "source": [
    "contest_df = spark_contest.read.json(\"/project/cmsc25025/beer_review/unlabeled.json\")\n",
    "contest_df.show(2)"
   ]
  },
  {
   "cell_type": "code",
   "execution_count": 12,
   "metadata": {
    "collapsed": true
   },
   "outputs": [],
   "source": [
    "#get mean and stdev for appearance, aroma, palate, style, taste\n",
    "names = ['appearance', 'aroma','palate','style','taste']\n",
    "contest_means = dict([(i,0) for i in names])\n",
    "contest_stdevs = dict([(i,0) for i in names])\n",
    "\n",
    "for name in names:\n",
    "    contest_means[name] = contest_df.rdd.map(lambda x: x[name]).mean()\n",
    "    contest_stdevs[name] = contest_df.rdd.map(lambda x: x[name]).stdev()"
   ]
  },
  {
   "cell_type": "code",
   "execution_count": 13,
   "metadata": {
    "collapsed": true
   },
   "outputs": [],
   "source": [
    "def normRatings_LabeledPoint_contest(x, names, means, stdevs):\n",
    "    #return a normalized labeled point with a 'fake label' = (0, [norm_features])\n",
    "    sort_names = sorted(names)\n",
    "    #x = np.array(x[0]) #the list is stored as ([list]), so need to get [0] entry to get list\n",
    "    #print x\n",
    "    x = np.array(x)\n",
    "    for i in np.arange(len(sort_names)):\n",
    "        myname = sort_names[i]\n",
    "        #print i,myname\n",
    "        x[i] = (float(x[i])-float(contest_means[myname]))/float(contest_stdevs[myname])\n",
    "    y = 0 #dummy label\n",
    "    #print x\n",
    "    lp = LabeledPoint(y,x)\n",
    "    return lp"
   ]
  },
  {
   "cell_type": "code",
   "execution_count": 14,
   "metadata": {
    "collapsed": true
   },
   "outputs": [],
   "source": [
    "#normalize reviews and turn into labeled points (review_ID, LabeledPt(0,[features]))\n",
    "contest_lp_df = contest_df.rdd.map(lambda x: (x['review_id'], x['appearance'], x['aroma'], x['palate'],x['style'], x['taste'])).\\\n",
    "                    map(lambda x: (x[0],normRatings_LabeledPoint_contest(x[1:],names,contest_means,contest_stdevs)))"
   ]
  },
  {
   "cell_type": "code",
   "execution_count": 15,
   "metadata": {
    "collapsed": false
   },
   "outputs": [
    {
     "name": "stdout",
     "output_type": "stream",
     "text": [
      "[(4, LabeledPoint(0.0, [-1.7635182412,-1.43786488311,-1.51521345166,-0.189867920231,-1.51252833445])), (12, LabeledPoint(0.0, [0.699209624944,-0.827382142143,0.892641047443,1.07555763827,0.336235799826]))]\n"
     ]
    }
   ],
   "source": [
    "boo = contest_lp_df.take(2)\n",
    "print boo\n",
    "\n",
    "goo = contest_df\n",
    "#print boo[0][0]\n",
    "#print boo[0][1].features[1:]"
   ]
  },
  {
   "cell_type": "code",
   "execution_count": 16,
   "metadata": {
    "collapsed": false
   },
   "outputs": [
    {
     "name": "stdout",
     "output_type": "stream",
     "text": [
      "[(12, 1), (19, 0)]\n"
     ]
    }
   ],
   "source": [
    "# Predict beer ratings in contest using SVM\n",
    "contest_pred = contest_lp_df.map(lambda p: (p[0], model.predict(p[1].features)))\n",
    "all_predictions = contest_pred.collect()\n",
    "print all_predictions[1:3]\n",
    "all_predictions = dict(all_predictions)\n",
    "#print dict(all_predictions)"
   ]
  },
  {
   "cell_type": "code",
   "execution_count": 18,
   "metadata": {
    "collapsed": true
   },
   "outputs": [],
   "source": [
    "# save predictions to a file\n",
    "TOSAVE=0\n",
    "if TOSAVE==1:\n",
    "    with open('assn3_prob4_predict.json', 'w') as f:\n",
    "        json.dump(all_predictions, f)"
   ]
  }
 ],
 "metadata": {
  "kernelspec": {
   "display_name": "Python 2",
   "language": "python",
   "name": "python2"
  },
  "language_info": {
   "codemirror_mode": {
    "name": "ipython",
    "version": 2
   },
   "file_extension": ".py",
   "mimetype": "text/x-python",
   "name": "python",
   "nbconvert_exporter": "python",
   "pygments_lexer": "ipython2",
   "version": "2.7.9"
  }
 },
 "nbformat": 4,
 "nbformat_minor": 2
}
